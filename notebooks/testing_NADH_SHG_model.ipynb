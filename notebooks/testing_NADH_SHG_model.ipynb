{
 "cells": [
  {
   "cell_type": "code",
   "id": "initial_id",
   "metadata": {
    "collapsed": true
   },
   "source": [
    "\n",
    "from models.microscopy_cnn import MicroscopyCNN\n",
    "import torch\n",
    "from scripts.dataset_loader import MicroscopyDataset\n",
    "from torch.utils.data import DataLoader"
   ],
   "outputs": [],
   "execution_count": null
  },
  {
   "metadata": {},
   "cell_type": "code",
   "source": [
    "model = MicroscopyCNN(in_channels=2, task='classification')\n",
    "\n",
    "# model.load_state_dict(torch.load(r'C:\\Users\\nmp002\\PycharmProjects\\MPM-MachineLearning\\trained_models\\best_NADH_only_24FEB2025.pt', map_location=torch.device('cpu'),weights_only=True))\n",
    "model.load_state_dict(torch.load(r'C:\\Users\\nmp002\\PycharmProjects\\MPM-MachineLearning\\trained_models\\epoch250_NADH_SHG.pt', map_location=torch.device('cpu'),weights_only=True))"
   ],
   "id": "a55b39c11dd1f2a0",
   "outputs": [],
   "execution_count": null
  },
  {
   "metadata": {},
   "cell_type": "code",
   "source": [
    "# Load data\n",
    "csv_file=r\"C:\\Users\\nmp002\\PycharmProjects\\MPM-MachineLearning\\data\\newData\\labels.csv\"\n",
    "root_dir=r\"C:\\Users\\nmp002\\PycharmProjects\\MPM-MachineLearning\\data\\newData\"\n",
    "\n",
    "dataset = MicroscopyDataset(\n",
    "    csv_file=csv_file,\n",
    "    root_dir=root_dir,\n",
    "    # channels = ['nadh'],\n",
    "    channels = ['nadh', 'shg'],\n",
    "    transform=None\n",
    ")"
   ],
   "id": "f8c48aaf07ca03cc",
   "outputs": [],
   "execution_count": null
  },
  {
   "metadata": {},
   "cell_type": "code",
   "source": [
    "specific_test_paths = []\n",
    "# sample_indices = [23,0,3,20]\n",
    "sample_indices = range(0,29)\n",
    "eval_indices = [27, 4, 25, 7, 8]\n",
    "for sample_index in eval_indices:\n",
    "    if sample_index not in [25,7]:\n",
    "        specific_test_paths.append(dataset.sample_wise_paths[sample_index])\n",
    "\n",
    "print(specific_test_paths)\n",
    "# print('\\n------------------------------------------\\n')\n",
    "# print(dataset.sample_wise_paths)"
   ],
   "id": "1b77e2c009e35a02",
   "outputs": [],
   "execution_count": null
  },
  {
   "metadata": {},
   "cell_type": "code",
   "source": [
    "from sklearn.metrics import roc_auc_score\n",
    "import matplotlib.pyplot as plt\n",
    "\n",
    "\n",
    "def score_em(t, o):\n",
    "    fpr, tpr, thresholds = roc_curve(t, o)\n",
    "    score = auc(fpr, tpr)\n",
    "    score_all = roc_auc_score(t, o)\n",
    "    print(score_all)\n",
    "    thresh = thresholds[np.argmax(tpr - fpr)]\n",
    "    print(type(thresholds), type(thresh))\n",
    "    preds = [out >= thresh for out in o]\n",
    "    print(f\"Predictions: {preds}\")\n",
    "    for tar,pred in zip(t, preds):\n",
    "        print(f'{tar} -> {pred}')\n",
    "    RocCurveDisplay(fpr=fpr, tpr=tpr, roc_auc=score).plot()\n",
    "    ConfusionMatrixDisplay.from_predictions(t, preds).plot()"
   ],
   "id": "a5c055496e6129c4",
   "outputs": [],
   "execution_count": null
  },
  {
   "metadata": {
    "ExecuteTime": {
     "end_time": "2025-03-05T19:30:02.679875Z",
     "start_time": "2025-03-05T19:30:01.827146Z"
    }
   },
   "cell_type": "code",
   "source": [
    "from sklearn.metrics import auc, roc_curve, confusion_matrix, RocCurveDisplay, ConfusionMatrixDisplay\n",
    "from scripts.dataset_loader import tiff_to_tensor\n",
    "import numpy as np\n",
    "with torch.no_grad():\n",
    "    model.eval()\n",
    "    targets = []\n",
    "    all_targets = []\n",
    "    outs = []\n",
    "    all_outs = []\n",
    "    for sample in specific_test_paths:\n",
    "        fov_outs = []\n",
    "        if sample:\n",
    "            for fov in sample:\n",
    "                # De-nest fov paths and get the indexed item path\n",
    "                score = fov[1]\n",
    "                combined_image = torch.cat([tiff_to_tensor(channel) for channel in fov[0]], dim=0).unsqueeze(0)\n",
    "                y = model(combined_image).item()\n",
    "                all_outs.append(y)\n",
    "                fov_outs.append(y)\n",
    "                all_targets.append(1 if score > 25 else 0)\n",
    "            targets.append(1 if score > 25 else 0)\n",
    "            outs.append(np.min(fov_outs))\n",
    "# score_em(all_targets, all_outs)\n",
    "# score_em(targets, outs)"
   ],
   "id": "d568c1f7ec85984",
   "outputs": [],
   "execution_count": 111
  },
  {
   "metadata": {
    "ExecuteTime": {
     "end_time": "2025-03-05T19:31:27.953059Z",
     "start_time": "2025-03-05T19:31:27.950207Z"
    }
   },
   "cell_type": "code",
   "source": [
    "print(all_targets)\n",
    "print(outs)"
   ],
   "id": "e60becac4a3fec70",
   "outputs": [
    {
     "name": "stdout",
     "output_type": "stream",
     "text": [
      "[1, 1, 1, 1, 1, 1, 1, 1, 1, 1, 0, 0, 0, 0, 0]\n",
      "[np.float64(4.194909251964418e-06), np.float64(1.4171220641401305e-07), np.float64(2.0514689822448418e-06)]\n"
     ]
    }
   ],
   "execution_count": 114
  },
  {
   "metadata": {},
   "cell_type": "code",
   "source": [
    "input_channels = ['nadh','shg']\n",
    "# Load full dataset\n",
    "full_dataset = MicroscopyDataset(\n",
    "    csv_file=\"../data/newData/labels.csv\",\n",
    "    root_dir=\"../data/newData\",\n",
    "    channels = input_channels,\n",
    "    transform=None\n",
    ")"
   ],
   "id": "db237d663fc83ec8",
   "outputs": [],
   "execution_count": null
  },
  {
   "metadata": {},
   "cell_type": "code",
   "source": "",
   "id": "8e70e2bce0fdb45f",
   "outputs": [],
   "execution_count": null
  },
  {
   "metadata": {},
   "cell_type": "code",
   "source": "samples_list = full_dataset.sample_wise_paths\n",
   "id": "750c1d3d99755667",
   "outputs": [],
   "execution_count": null
  },
  {
   "metadata": {},
   "cell_type": "code",
   "source": [
    "import random\n",
    "random.shuffle(samples_list)\n",
    "print(samples_list)"
   ],
   "id": "4afc96a9cd5b7abf",
   "outputs": [],
   "execution_count": null
  },
  {
   "metadata": {},
   "cell_type": "code",
   "source": [
    "import torchvision.transforms.v2 as tvt\n",
    "# Transformations for training set\n",
    "train_transform = tvt.Compose([\n",
    "    tvt.RandomVerticalFlip(p=0.25),\n",
    "    tvt.RandomHorizontalFlip(p=0.25),\n",
    "    tvt.RandomRotation(degrees=(-180, 180))])\n",
    "full_dataset.transform = train_transform"
   ],
   "id": "879c16df30debe74",
   "outputs": [],
   "execution_count": null
  },
  {
   "metadata": {},
   "cell_type": "code",
   "source": [
    "total_samples = len(samples_list)\n",
    "train_size = int(0.7 * total_samples)\n",
    "val_size = int(0.2 * total_samples)\n",
    "test_size = total_samples - train_size - val_size\n",
    "\n",
    "indices = torch.utils.data.SubsetRandomSampler(range(len(samples_list)))\n",
    "print(indices)\n",
    "indices = [i for i in indices]\n",
    "print(indices)"
   ],
   "id": "1f6c7691535fd89c",
   "outputs": [],
   "execution_count": null
  },
  {
   "metadata": {},
   "cell_type": "code",
   "source": [
    "for i in indices:\n",
    "    if samples_list[i][0][1] > 25:\n",
    "        print(f\"Sample_{(i+1):03} has a HIGH score\")\n",
    "    else:\n",
    "        print(f\"Sample_{(i+1):03} has a LOW score\")"
   ],
   "id": "8aae929eb0655f00",
   "outputs": [],
   "execution_count": null
  },
  {
   "metadata": {},
   "cell_type": "code",
   "source": "print(indices)",
   "id": "c664618d7c34db8b",
   "outputs": [],
   "execution_count": null
  },
  {
   "metadata": {},
   "cell_type": "code",
   "source": [
    "sample_id = full_dataset.data_frame['sample_id'].iloc[9]\n",
    "for i, fov_path in enumerate(full_dataset._denest()):\n",
    "        print(fov_path[0][0])"
   ],
   "id": "57f3ec3464fca58b",
   "outputs": [],
   "execution_count": null
  },
  {
   "metadata": {
    "ExecuteTime": {
     "end_time": "2025-03-05T19:51:03.735525Z",
     "start_time": "2025-03-05T19:51:03.728556Z"
    }
   },
   "cell_type": "code",
   "source": [
    "print(indices)\n",
    "train_samples = indices[:train_size]\n",
    "print(f\"Train samples: {train_samples}\")\n",
    "train_indices = [full_dataset.get_sample_indices(sample) for sample in train_samples]\n",
    "train_indices = [i for sublist in train_indices for i in sublist]\n",
    "print(f\"Train indices: {train_indices}\")\n",
    "train_data = torch.utils.data.Subset(full_dataset, train_indices)\n",
    "\n",
    "\n",
    "val_samples = indices[train_size:train_size+val_size]\n",
    "print(f\"Val samples: {val_samples}\")\n",
    "val_indices = [full_dataset.get_sample_indices(sample) for sample in val_samples]\n",
    "val_indices = [i for sublist in val_indices for i in sublist]\n",
    "print(f\"Val indices: {val_indices}\")\n",
    "val_data = torch.utils.data.Subset(full_dataset, val_indices)\n",
    "\n",
    "test_samples = indices[train_size+val_size:]\n",
    "print(f\"Test samples: {test_samples}\")\n",
    "test_indices = [full_dataset.get_sample_indices(sample) for sample in test_samples]\n",
    "test_indices = [i for sublist in test_indices for i in sublist]\n",
    "print(f\"Test indices: {test_indices}\")\n",
    "test_data = torch.utils.data.Subset(full_dataset, test_indices)"
   ],
   "id": "84d2d0aa054bff7a",
   "outputs": [
    {
     "name": "stdout",
     "output_type": "stream",
     "text": [
      "[24, 27, 15, 5, 10, 25, 0, 4, 23, 19, 16, 9, 20, 3, 8, 26, 1, 11, 13, 2, 22, 12, 14, 7, 28, 21, 17, 18, 6]\n",
      "Train samples: [24, 27, 15, 5, 10, 25, 0, 4, 23, 19, 16, 9, 20, 3, 8, 26, 1, 11, 13, 2]\n",
      "Train indices: [95, 96, 97, 98, 99, 40, 41, 42, 43, 44, 30, 31, 32, 33, 34, 10, 11, 12, 13, 14, 50, 51, 52, 53, 54, 125, 126, 127, 128, 129, 90, 91, 92, 93, 94, 15, 16, 17, 18, 19, 85, 86, 87, 88, 89, 65, 66, 67, 68, 69, 5, 6, 7, 8, 9, 55, 56, 57, 58, 59, 60, 61, 62, 63, 64, 0, 1, 2, 3, 4, 25, 26, 27, 28, 29, 135, 136, 137, 138, 139, 140, 141, 142, 143, 144, 75, 76, 77, 78, 79, 120, 121, 122, 123, 124, 130, 131, 132, 133, 134]\n",
      "Val samples: [22, 12, 14, 7, 28]\n",
      "Val indices: [70, 71, 72, 73, 74, 115, 116, 117, 118, 119, 35, 36, 37, 38, 39, 45, 46, 47, 48, 49, 80, 81, 82, 83, 84]\n",
      "Test samples: [21, 17, 18, 6]\n",
      "Test indices: [105, 106, 107, 108, 109, 110, 111, 112, 113, 114, 20, 21, 22, 23, 24, 100, 101, 102, 103, 104]\n"
     ]
    }
   ],
   "execution_count": 125
  },
  {
   "metadata": {},
   "cell_type": "code",
   "source": [
    "from scripts.dataset_loader import tiff_to_tensor\n",
    "for i in test_samples:\n",
    "    for sample_path in full_dataset.sample_wise_paths[i]:\n",
    "        if sample_path:\n",
    "            for fov in sample_path:\n",
    "                score = fov[1]\n",
    "                combined_image = torch.cat([tiff_to_tensor(channel) for channel in fov[0]], dim=0).unsqueeze(0)"
   ],
   "id": "24fad372b2ddd332",
   "outputs": [],
   "execution_count": null
  },
  {
   "metadata": {
    "ExecuteTime": {
     "end_time": "2025-03-05T19:35:06.280037Z",
     "start_time": "2025-03-05T19:35:05.603552Z"
    }
   },
   "cell_type": "code",
   "source": [
    "dataloaders = {\n",
    "    'train': DataLoader(train_data, batch_size=16, shuffle=True),\n",
    "    'val': DataLoader(val_data, batch_size=16, shuffle=False),\n",
    "    'test': DataLoader(test_data, batch_size=len(test_data), shuffle=False)\n",
    "}\n",
    "\n",
    "with torch.no_grad():\n",
    "    model.eval()\n",
    "\n",
    "    for img, targets in dataloaders['test']:\n",
    "        print(targets)\n",
    "        print(img.shape)\n",
    "        y = model(img).squeeze()\n",
    "\n",
    "targets = [1 if t > 25 else 0 for t in targets]\n",
    "print(targets)\n",
    "print(y)\n",
    "y = y.numpy().astype(np.float64).tolist()\n",
    "print(y)\n",
    "# score_em(targets, y)"
   ],
   "id": "8bcf83d54636bf76",
   "outputs": [
    {
     "name": "stdout",
     "output_type": "stream",
     "text": [
      "tensor([34, 34, 34, 34, 34,  0,  0,  0,  0,  0,  3,  3,  3,  3,  3, 52, 52, 52,\n",
      "        52, 52])\n",
      "torch.Size([20, 2, 512, 512])\n",
      "[1, 1, 1, 1, 1, 0, 0, 0, 0, 0, 0, 0, 0, 0, 0, 1, 1, 1, 1, 1]\n",
      "tensor([3.5189e-03, 2.8775e-03, 1.7736e-03, 3.6772e-03, 2.4496e-03, 7.8437e-07,\n",
      "        1.5624e-08, 5.3555e-08, 5.2206e-09, 8.1587e-08, 1.1886e-06, 6.7109e-08,\n",
      "        3.7499e-08, 2.0094e-06, 3.4685e-07, 2.8017e-04, 2.6578e-04, 3.9497e-04,\n",
      "        3.4618e-03, 1.6702e-03])\n",
      "[0.0035188659094274044, 0.0028774926904588938, 0.001773620257154107, 0.003677193308249116, 0.0024496116675436497, 7.843717071409628e-07, 1.562425211432128e-08, 5.35553574820824e-08, 5.220617271817218e-09, 8.158743725061868e-08, 1.188581450151105e-06, 6.71089281922832e-08, 3.7499436444932144e-08, 2.0093530110898428e-06, 3.4684987326727423e-07, 0.0002801698283292353, 0.0002657821460161358, 0.0003949677920900285, 0.003461789805442095, 0.0016702159773558378]\n"
     ]
    }
   ],
   "execution_count": 118
  },
  {
   "metadata": {},
   "cell_type": "code",
   "source": "",
   "id": "1fda426d9a8d54bd",
   "outputs": [],
   "execution_count": null
  },
  {
   "metadata": {
    "ExecuteTime": {
     "end_time": "2025-03-05T19:35:31.982498Z",
     "start_time": "2025-03-05T19:35:31.974311Z"
    }
   },
   "cell_type": "code",
   "source": [
    "fpr, tpr, thresholds = roc_curve(targets, y)\n",
    "print(f\"fpr: {fpr}, tpr: {tpr}, thresholds: {thresholds}\")"
   ],
   "id": "95f6d6f61fad0a6c",
   "outputs": [
    {
     "name": "stdout",
     "output_type": "stream",
     "text": [
      "fpr: [0. 0. 0. 1.], tpr: [0.  0.1 1.  1. ], thresholds: [           inf 3.67719331e-03 2.65782146e-04 5.22061727e-09]\n"
     ]
    }
   ],
   "execution_count": 119
  },
  {
   "metadata": {
    "ExecuteTime": {
     "end_time": "2025-03-05T19:35:35.021165Z",
     "start_time": "2025-03-05T19:35:35.018090Z"
    }
   },
   "cell_type": "code",
   "source": [
    "test_score = auc(fpr, tpr)\n",
    "print(test_score)"
   ],
   "id": "783dcfd1b3ff4dfc",
   "outputs": [
    {
     "name": "stdout",
     "output_type": "stream",
     "text": [
      "1.0\n"
     ]
    }
   ],
   "execution_count": 120
  },
  {
   "metadata": {
    "ExecuteTime": {
     "end_time": "2025-03-05T19:35:36.581352Z",
     "start_time": "2025-03-05T19:35:36.577591Z"
    }
   },
   "cell_type": "code",
   "source": [
    "thresh = thresholds[np.argmax(tpr - fpr)]\n",
    "print(f\"Thresh: {thresh}\")"
   ],
   "id": "28122d556f20230b",
   "outputs": [
    {
     "name": "stdout",
     "output_type": "stream",
     "text": [
      "Thresh: 0.0002657821460161358\n"
     ]
    }
   ],
   "execution_count": 121
  },
  {
   "metadata": {
    "ExecuteTime": {
     "end_time": "2025-03-05T19:35:39.080907Z",
     "start_time": "2025-03-05T19:35:39.077804Z"
    }
   },
   "cell_type": "code",
   "source": [
    "preds = [out >= thresh for out in y]\n",
    "print(f\"Predictions: {preds}\")"
   ],
   "id": "d32b1b590e18bfed",
   "outputs": [
    {
     "name": "stdout",
     "output_type": "stream",
     "text": [
      "Predictions: [np.True_, np.True_, np.True_, np.True_, np.True_, np.False_, np.False_, np.False_, np.False_, np.False_, np.False_, np.False_, np.False_, np.False_, np.False_, np.True_, np.True_, np.True_, np.True_, np.True_]\n"
     ]
    }
   ],
   "execution_count": 122
  },
  {
   "metadata": {
    "ExecuteTime": {
     "end_time": "2025-03-05T19:35:44.289292Z",
     "start_time": "2025-03-05T19:35:44.201084Z"
    }
   },
   "cell_type": "code",
   "source": "roc_display = RocCurveDisplay(fpr=fpr, tpr=tpr, roc_auc=test_score).plot()",
   "id": "2f2ed74aa1f66bd6",
   "outputs": [
    {
     "data": {
      "text/plain": [
       "<Figure size 640x480 with 1 Axes>"
      ],
      "image/png": "[encoded data removed]"
     },
     "metadata": {},
     "output_type": "display_data"
    }
   ],
   "execution_count": 123
  },
  {
   "metadata": {
    "ExecuteTime": {
     "end_time": "2025-03-05T19:35:45.528995Z",
     "start_time": "2025-03-05T19:35:45.430288Z"
    }
   },
   "cell_type": "code",
   "source": "conf_matrix = ConfusionMatrixDisplay.from_predictions(targets, preds).confusion_matrix",
   "id": "32e9192131e67eaf",
   "outputs": [
    {
     "data": {
      "text/plain": [
       "<Figure size 640x480 with 2 Axes>"
      ],
      "image/png": "[encoded data removed]"
     },
     "metadata": {},
     "output_type": "display_data"
    }
   ],
   "execution_count": 124
  },
  {
   "metadata": {},
   "cell_type": "code",
   "source": [
    "total_samples = len(samples_list)\n",
    "train_size = int(0.7 * total_samples)\n",
    "val_size = int(0.2 * total_samples)\n",
    "test_size = total_samples - train_size - val_size\n",
    "print(f\"Total samples: {total_samples}, train_size: {train_size}, val_size: {val_size}, test_size: {test_size}\")"
   ],
   "id": "64a051a4d22e2a7d",
   "outputs": [],
   "execution_count": null
  },
  {
   "metadata": {},
   "cell_type": "code",
   "source": [
    "train_samples = samples_list[:train_size]\n",
    "val_samples = samples_list[train_size:train_size+val_size]\n",
    "test_samples = samples_list[train_size+val_size:]\n",
    "print(f\"Train samples: {train_samples}\\n\\nval samples: {val_samples}\\n\\ntest samples: {test_samples}\")"
   ],
   "id": "8e52bf14ab23917e",
   "outputs": [],
   "execution_count": null
  },
  {
   "metadata": {},
   "cell_type": "code",
   "source": [
    "for sample in test_data:\n",
    "    for fov in sample:\n",
    "        score = fov[1]\n",
    "        print(score)"
   ],
   "id": "43727d3d3fb0dd40",
   "outputs": [],
   "execution_count": null
  },
  {
   "metadata": {},
   "cell_type": "code",
   "source": "",
   "id": "3f651122479ece4f",
   "outputs": [],
   "execution_count": null
  }
 ],
 "metadata": {
  "kernelspec": {
   "display_name": "Python 3",
   "language": "python",
   "name": "python3"
  },
  "language_info": {
   "codemirror_mode": {
    "name": "ipython",
    "version": 2
   },
   "file_extension": ".py",
   "mimetype": "text/x-python",
   "name": "python",
   "nbconvert_exporter": "python",
   "pygments_lexer": "ipython2",
   "version": "2.7.6"
  }
 },
 "nbformat": 4,
 "nbformat_minor": 5
}
