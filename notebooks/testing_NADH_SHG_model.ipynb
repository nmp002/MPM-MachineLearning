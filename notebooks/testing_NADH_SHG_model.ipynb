{
 "cells": [
  {
   "cell_type": "code",
   "id": "initial_id",
   "metadata": {
    "collapsed": true,
    "ExecuteTime": {
     "end_time": "2025-03-05T16:52:07.550197Z",
     "start_time": "2025-03-05T16:52:03.232299Z"
    }
   },
   "source": [
    "\n",
    "from models.microscopy_cnn import MicroscopyCNN\n",
    "import torch\n",
    "from scripts.dataset_loader import MicroscopyDataset\n",
    "from torch.utils.data import DataLoader"
   ],
   "outputs": [
    {
     "name": "stdout",
     "output_type": "stream",
     "text": [
      "MicroscopyCNN(\n",
      "  (conv1): Conv2d(4, 16, kernel_size=(3, 3), stride=(1, 1), padding=(1, 1))\n",
      "  (relu1): ReLU()\n",
      "  (pool1): MaxPool2d(kernel_size=2, stride=2, padding=0, dilation=1, ceil_mode=False)\n",
      "  (conv2): Conv2d(16, 32, kernel_size=(3, 3), stride=(1, 1), padding=(1, 1))\n",
      "  (relu2): ReLU()\n",
      "  (pool2): MaxPool2d(kernel_size=2, stride=2, padding=0, dilation=1, ceil_mode=False)\n",
      "  (conv3): Conv2d(32, 64, kernel_size=(3, 3), stride=(1, 1), padding=(1, 1))\n",
      "  (relu3): ReLU()\n",
      "  (pool3): MaxPool2d(kernel_size=2, stride=2, padding=0, dilation=1, ceil_mode=False)\n",
      "  (fc1): Linear(in_features=262144, out_features=128, bias=True)\n",
      "  (fc2): Linear(in_features=128, out_features=64, bias=True)\n",
      "  (fc3): Linear(in_features=64, out_features=1, bias=True)\n",
      "  (dropout): Dropout(p=0.5, inplace=False)\n",
      ")\n",
      "MicroscopyCNN(\n",
      "  (conv1): Conv2d(4, 16, kernel_size=(3, 3), stride=(1, 1), padding=(1, 1))\n",
      "  (relu1): ReLU()\n",
      "  (pool1): MaxPool2d(kernel_size=2, stride=2, padding=0, dilation=1, ceil_mode=False)\n",
      "  (conv2): Conv2d(16, 32, kernel_size=(3, 3), stride=(1, 1), padding=(1, 1))\n",
      "  (relu2): ReLU()\n",
      "  (pool2): MaxPool2d(kernel_size=2, stride=2, padding=0, dilation=1, ceil_mode=False)\n",
      "  (conv3): Conv2d(32, 64, kernel_size=(3, 3), stride=(1, 1), padding=(1, 1))\n",
      "  (relu3): ReLU()\n",
      "  (pool3): MaxPool2d(kernel_size=2, stride=2, padding=0, dilation=1, ceil_mode=False)\n",
      "  (fc1): Linear(in_features=262144, out_features=128, bias=True)\n",
      "  (fc2): Linear(in_features=128, out_features=64, bias=True)\n",
      "  (fc3): Linear(in_features=64, out_features=1, bias=True)\n",
      "  (dropout): Dropout(p=0.5, inplace=False)\n",
      ")\n"
     ]
    }
   ],
   "execution_count": 1
  },
  {
   "metadata": {
    "ExecuteTime": {
     "end_time": "2025-03-05T16:52:08.762300Z",
     "start_time": "2025-03-05T16:52:08.510947Z"
    }
   },
   "cell_type": "code",
   "source": [
    "model = MicroscopyCNN(in_channels=2, task='classification')\n",
    "\n",
    "# model.load_state_dict(torch.load(r'C:\\Users\\nmp002\\PycharmProjects\\MPM-MachineLearning\\trained_models\\best_NADH_only_24FEB2025.pt', map_location=torch.device('cpu'),weights_only=True))\n",
    "model.load_state_dict(torch.load(r'C:\\Users\\nmp002\\PycharmProjects\\MPM-MachineLearning\\trained_models\\epoch250_NADH_SHG.pt', map_location=torch.device('cpu'),weights_only=True))"
   ],
   "id": "a55b39c11dd1f2a0",
   "outputs": [
    {
     "data": {
      "text/plain": [
       "<All keys matched successfully>"
      ]
     },
     "execution_count": 2,
     "metadata": {},
     "output_type": "execute_result"
    }
   ],
   "execution_count": 2
  },
  {
   "metadata": {
    "ExecuteTime": {
     "end_time": "2025-03-05T16:52:09.098716Z",
     "start_time": "2025-03-05T16:52:09.069474Z"
    }
   },
   "cell_type": "code",
   "source": [
    "# Load data\n",
    "csv_file=r\"C:\\Users\\nmp002\\PycharmProjects\\MPM-MachineLearning\\data\\newData\\labels.csv\"\n",
    "root_dir=r\"C:\\Users\\nmp002\\PycharmProjects\\MPM-MachineLearning\\data\\newData\"\n",
    "\n",
    "dataset = MicroscopyDataset(\n",
    "    csv_file=csv_file,\n",
    "    root_dir=root_dir,\n",
    "    # channels = ['nadh'],\n",
    "    channels = ['nadh', 'shg'],\n",
    "    transform=None\n",
    ")"
   ],
   "id": "f8c48aaf07ca03cc",
   "outputs": [
    {
     "name": "stdout",
     "output_type": "stream",
     "text": [
      "Total samples found: 290\n"
     ]
    }
   ],
   "execution_count": 3
  },
  {
   "metadata": {
    "ExecuteTime": {
     "end_time": "2025-03-05T16:52:09.996920Z",
     "start_time": "2025-03-05T16:52:09.989492Z"
    }
   },
   "cell_type": "code",
   "source": [
    "specific_test_paths = []\n",
    "# sample_indices = [23,0,3,20]\n",
    "sample_indices = range(0,29)\n",
    "eval_indices = [27, 4, 25, 7, 8]\n",
    "for sample_index in eval_indices:\n",
    "    if sample_index not in [25,7]:\n",
    "        specific_test_paths.append(dataset.sample_wise_paths[sample_index])\n",
    "\n",
    "print(specific_test_paths)\n",
    "# print('\\n------------------------------------------\\n')\n",
    "# print(dataset.sample_wise_paths)"
   ],
   "id": "1b77e2c009e35a02",
   "outputs": [
    {
     "name": "stdout",
     "output_type": "stream",
     "text": [
      "[[(['C:\\\\Users\\\\nmp002\\\\PycharmProjects\\\\MPM-MachineLearning\\\\data\\\\newData\\\\Sample_029\\\\fov1\\\\nadh.tiff', 'C:\\\\Users\\\\nmp002\\\\PycharmProjects\\\\MPM-MachineLearning\\\\data\\\\newData\\\\Sample_029\\\\fov1\\\\shg.tiff'], 37), (['C:\\\\Users\\\\nmp002\\\\PycharmProjects\\\\MPM-MachineLearning\\\\data\\\\newData\\\\Sample_029\\\\fov2\\\\nadh.tiff', 'C:\\\\Users\\\\nmp002\\\\PycharmProjects\\\\MPM-MachineLearning\\\\data\\\\newData\\\\Sample_029\\\\fov2\\\\shg.tiff'], 37), (['C:\\\\Users\\\\nmp002\\\\PycharmProjects\\\\MPM-MachineLearning\\\\data\\\\newData\\\\Sample_029\\\\fov3\\\\nadh.tiff', 'C:\\\\Users\\\\nmp002\\\\PycharmProjects\\\\MPM-MachineLearning\\\\data\\\\newData\\\\Sample_029\\\\fov3\\\\shg.tiff'], 37), (['C:\\\\Users\\\\nmp002\\\\PycharmProjects\\\\MPM-MachineLearning\\\\data\\\\newData\\\\Sample_029\\\\fov4\\\\nadh.tiff', 'C:\\\\Users\\\\nmp002\\\\PycharmProjects\\\\MPM-MachineLearning\\\\data\\\\newData\\\\Sample_029\\\\fov4\\\\shg.tiff'], 37), (['C:\\\\Users\\\\nmp002\\\\PycharmProjects\\\\MPM-MachineLearning\\\\data\\\\newData\\\\Sample_029\\\\fov5\\\\nadh.tiff', 'C:\\\\Users\\\\nmp002\\\\PycharmProjects\\\\MPM-MachineLearning\\\\data\\\\newData\\\\Sample_029\\\\fov5\\\\shg.tiff'], 37)], [(['C:\\\\Users\\\\nmp002\\\\PycharmProjects\\\\MPM-MachineLearning\\\\data\\\\newData\\\\Sample_005\\\\fov1\\\\nadh.tiff', 'C:\\\\Users\\\\nmp002\\\\PycharmProjects\\\\MPM-MachineLearning\\\\data\\\\newData\\\\Sample_005\\\\fov1\\\\shg.tiff'], 52), (['C:\\\\Users\\\\nmp002\\\\PycharmProjects\\\\MPM-MachineLearning\\\\data\\\\newData\\\\Sample_005\\\\fov2\\\\nadh.tiff', 'C:\\\\Users\\\\nmp002\\\\PycharmProjects\\\\MPM-MachineLearning\\\\data\\\\newData\\\\Sample_005\\\\fov2\\\\shg.tiff'], 52), (['C:\\\\Users\\\\nmp002\\\\PycharmProjects\\\\MPM-MachineLearning\\\\data\\\\newData\\\\Sample_005\\\\fov3\\\\nadh.tiff', 'C:\\\\Users\\\\nmp002\\\\PycharmProjects\\\\MPM-MachineLearning\\\\data\\\\newData\\\\Sample_005\\\\fov3\\\\shg.tiff'], 52), (['C:\\\\Users\\\\nmp002\\\\PycharmProjects\\\\MPM-MachineLearning\\\\data\\\\newData\\\\Sample_005\\\\fov4\\\\nadh.tiff', 'C:\\\\Users\\\\nmp002\\\\PycharmProjects\\\\MPM-MachineLearning\\\\data\\\\newData\\\\Sample_005\\\\fov4\\\\shg.tiff'], 52), (['C:\\\\Users\\\\nmp002\\\\PycharmProjects\\\\MPM-MachineLearning\\\\data\\\\newData\\\\Sample_005\\\\fov5\\\\nadh.tiff', 'C:\\\\Users\\\\nmp002\\\\PycharmProjects\\\\MPM-MachineLearning\\\\data\\\\newData\\\\Sample_005\\\\fov5\\\\shg.tiff'], 52)], [(['C:\\\\Users\\\\nmp002\\\\PycharmProjects\\\\MPM-MachineLearning\\\\data\\\\newData\\\\Sample_009\\\\fov1\\\\nadh.tiff', 'C:\\\\Users\\\\nmp002\\\\PycharmProjects\\\\MPM-MachineLearning\\\\data\\\\newData\\\\Sample_009\\\\fov1\\\\shg.tiff'], 25), (['C:\\\\Users\\\\nmp002\\\\PycharmProjects\\\\MPM-MachineLearning\\\\data\\\\newData\\\\Sample_009\\\\fov2\\\\nadh.tiff', 'C:\\\\Users\\\\nmp002\\\\PycharmProjects\\\\MPM-MachineLearning\\\\data\\\\newData\\\\Sample_009\\\\fov2\\\\shg.tiff'], 25), (['C:\\\\Users\\\\nmp002\\\\PycharmProjects\\\\MPM-MachineLearning\\\\data\\\\newData\\\\Sample_009\\\\fov3\\\\nadh.tiff', 'C:\\\\Users\\\\nmp002\\\\PycharmProjects\\\\MPM-MachineLearning\\\\data\\\\newData\\\\Sample_009\\\\fov3\\\\shg.tiff'], 25), (['C:\\\\Users\\\\nmp002\\\\PycharmProjects\\\\MPM-MachineLearning\\\\data\\\\newData\\\\Sample_009\\\\fov4\\\\nadh.tiff', 'C:\\\\Users\\\\nmp002\\\\PycharmProjects\\\\MPM-MachineLearning\\\\data\\\\newData\\\\Sample_009\\\\fov4\\\\shg.tiff'], 25), (['C:\\\\Users\\\\nmp002\\\\PycharmProjects\\\\MPM-MachineLearning\\\\data\\\\newData\\\\Sample_009\\\\fov5\\\\nadh.tiff', 'C:\\\\Users\\\\nmp002\\\\PycharmProjects\\\\MPM-MachineLearning\\\\data\\\\newData\\\\Sample_009\\\\fov5\\\\shg.tiff'], 25)]]\n"
     ]
    }
   ],
   "execution_count": 4
  },
  {
   "metadata": {
    "ExecuteTime": {
     "end_time": "2025-03-05T16:52:12.562649Z",
     "start_time": "2025-03-05T16:52:11.030467Z"
    }
   },
   "cell_type": "code",
   "source": [
    "from sklearn.metrics import roc_auc_score\n",
    "import matplotlib.pyplot as plt\n",
    "\n",
    "\n",
    "def score_em(t, o):\n",
    "    fpr, tpr, thresholds = roc_curve(t, o)\n",
    "    score = auc(fpr, tpr)\n",
    "    score_all = roc_auc_score(t, o)\n",
    "    print(score_all)\n",
    "    thresh = thresholds[np.argmax(tpr - fpr)]\n",
    "    print(type(thresholds), type(thresh))\n",
    "    preds = [out >= thresh for out in o]\n",
    "    for tar,pred in zip(t, preds):\n",
    "        print(f'{tar} -> {pred}')\n",
    "    RocCurveDisplay(fpr=fpr, tpr=tpr, roc_auc=score).plot()\n",
    "    ConfusionMatrixDisplay.from_predictions(t, preds).plot()"
   ],
   "id": "a5c055496e6129c4",
   "outputs": [],
   "execution_count": 5
  },
  {
   "metadata": {
    "ExecuteTime": {
     "end_time": "2025-03-05T17:01:21.514295Z",
     "start_time": "2025-03-05T17:01:21.511004Z"
    }
   },
   "cell_type": "code",
   "source": "print(specific_test_paths)",
   "id": "749cd393b8f1efef",
   "outputs": [
    {
     "name": "stdout",
     "output_type": "stream",
     "text": [
      "[[(['C:\\\\Users\\\\nmp002\\\\PycharmProjects\\\\MPM-MachineLearning\\\\data\\\\newData\\\\Sample_029\\\\fov1\\\\nadh.tiff', 'C:\\\\Users\\\\nmp002\\\\PycharmProjects\\\\MPM-MachineLearning\\\\data\\\\newData\\\\Sample_029\\\\fov1\\\\shg.tiff'], 37), (['C:\\\\Users\\\\nmp002\\\\PycharmProjects\\\\MPM-MachineLearning\\\\data\\\\newData\\\\Sample_029\\\\fov2\\\\nadh.tiff', 'C:\\\\Users\\\\nmp002\\\\PycharmProjects\\\\MPM-MachineLearning\\\\data\\\\newData\\\\Sample_029\\\\fov2\\\\shg.tiff'], 37), (['C:\\\\Users\\\\nmp002\\\\PycharmProjects\\\\MPM-MachineLearning\\\\data\\\\newData\\\\Sample_029\\\\fov3\\\\nadh.tiff', 'C:\\\\Users\\\\nmp002\\\\PycharmProjects\\\\MPM-MachineLearning\\\\data\\\\newData\\\\Sample_029\\\\fov3\\\\shg.tiff'], 37), (['C:\\\\Users\\\\nmp002\\\\PycharmProjects\\\\MPM-MachineLearning\\\\data\\\\newData\\\\Sample_029\\\\fov4\\\\nadh.tiff', 'C:\\\\Users\\\\nmp002\\\\PycharmProjects\\\\MPM-MachineLearning\\\\data\\\\newData\\\\Sample_029\\\\fov4\\\\shg.tiff'], 37), (['C:\\\\Users\\\\nmp002\\\\PycharmProjects\\\\MPM-MachineLearning\\\\data\\\\newData\\\\Sample_029\\\\fov5\\\\nadh.tiff', 'C:\\\\Users\\\\nmp002\\\\PycharmProjects\\\\MPM-MachineLearning\\\\data\\\\newData\\\\Sample_029\\\\fov5\\\\shg.tiff'], 37)], [(['C:\\\\Users\\\\nmp002\\\\PycharmProjects\\\\MPM-MachineLearning\\\\data\\\\newData\\\\Sample_005\\\\fov1\\\\nadh.tiff', 'C:\\\\Users\\\\nmp002\\\\PycharmProjects\\\\MPM-MachineLearning\\\\data\\\\newData\\\\Sample_005\\\\fov1\\\\shg.tiff'], 52), (['C:\\\\Users\\\\nmp002\\\\PycharmProjects\\\\MPM-MachineLearning\\\\data\\\\newData\\\\Sample_005\\\\fov2\\\\nadh.tiff', 'C:\\\\Users\\\\nmp002\\\\PycharmProjects\\\\MPM-MachineLearning\\\\data\\\\newData\\\\Sample_005\\\\fov2\\\\shg.tiff'], 52), (['C:\\\\Users\\\\nmp002\\\\PycharmProjects\\\\MPM-MachineLearning\\\\data\\\\newData\\\\Sample_005\\\\fov3\\\\nadh.tiff', 'C:\\\\Users\\\\nmp002\\\\PycharmProjects\\\\MPM-MachineLearning\\\\data\\\\newData\\\\Sample_005\\\\fov3\\\\shg.tiff'], 52), (['C:\\\\Users\\\\nmp002\\\\PycharmProjects\\\\MPM-MachineLearning\\\\data\\\\newData\\\\Sample_005\\\\fov4\\\\nadh.tiff', 'C:\\\\Users\\\\nmp002\\\\PycharmProjects\\\\MPM-MachineLearning\\\\data\\\\newData\\\\Sample_005\\\\fov4\\\\shg.tiff'], 52), (['C:\\\\Users\\\\nmp002\\\\PycharmProjects\\\\MPM-MachineLearning\\\\data\\\\newData\\\\Sample_005\\\\fov5\\\\nadh.tiff', 'C:\\\\Users\\\\nmp002\\\\PycharmProjects\\\\MPM-MachineLearning\\\\data\\\\newData\\\\Sample_005\\\\fov5\\\\shg.tiff'], 52)], [(['C:\\\\Users\\\\nmp002\\\\PycharmProjects\\\\MPM-MachineLearning\\\\data\\\\newData\\\\Sample_009\\\\fov1\\\\nadh.tiff', 'C:\\\\Users\\\\nmp002\\\\PycharmProjects\\\\MPM-MachineLearning\\\\data\\\\newData\\\\Sample_009\\\\fov1\\\\shg.tiff'], 25), (['C:\\\\Users\\\\nmp002\\\\PycharmProjects\\\\MPM-MachineLearning\\\\data\\\\newData\\\\Sample_009\\\\fov2\\\\nadh.tiff', 'C:\\\\Users\\\\nmp002\\\\PycharmProjects\\\\MPM-MachineLearning\\\\data\\\\newData\\\\Sample_009\\\\fov2\\\\shg.tiff'], 25), (['C:\\\\Users\\\\nmp002\\\\PycharmProjects\\\\MPM-MachineLearning\\\\data\\\\newData\\\\Sample_009\\\\fov3\\\\nadh.tiff', 'C:\\\\Users\\\\nmp002\\\\PycharmProjects\\\\MPM-MachineLearning\\\\data\\\\newData\\\\Sample_009\\\\fov3\\\\shg.tiff'], 25), (['C:\\\\Users\\\\nmp002\\\\PycharmProjects\\\\MPM-MachineLearning\\\\data\\\\newData\\\\Sample_009\\\\fov4\\\\nadh.tiff', 'C:\\\\Users\\\\nmp002\\\\PycharmProjects\\\\MPM-MachineLearning\\\\data\\\\newData\\\\Sample_009\\\\fov4\\\\shg.tiff'], 25), (['C:\\\\Users\\\\nmp002\\\\PycharmProjects\\\\MPM-MachineLearning\\\\data\\\\newData\\\\Sample_009\\\\fov5\\\\nadh.tiff', 'C:\\\\Users\\\\nmp002\\\\PycharmProjects\\\\MPM-MachineLearning\\\\data\\\\newData\\\\Sample_009\\\\fov5\\\\shg.tiff'], 25)]]\n"
     ]
    }
   ],
   "execution_count": 20
  },
  {
   "metadata": {
    "ExecuteTime": {
     "end_time": "2025-03-05T17:01:44.291858Z",
     "start_time": "2025-03-05T17:01:42.726910Z"
    }
   },
   "cell_type": "code",
   "source": [
    "from sklearn.metrics import auc, roc_curve, confusion_matrix, RocCurveDisplay, ConfusionMatrixDisplay\n",
    "from scripts.dataset_loader import tiff_to_tensor\n",
    "import numpy as np\n",
    "with torch.no_grad():\n",
    "    model.eval()\n",
    "    targets = []\n",
    "    all_targets = []\n",
    "    outs = []\n",
    "    all_outs = []\n",
    "    for sample in specific_test_paths:\n",
    "        fov_outs = []\n",
    "        if sample:\n",
    "            for fov in sample:\n",
    "                # De-nest fov paths and get the indexed item path\n",
    "                score = fov[1]\n",
    "                combined_image = torch.cat([tiff_to_tensor(channel) for channel in fov[0]], dim=0).unsqueeze(0)\n",
    "                y = model(combined_image).item()\n",
    "                all_outs.append(y)\n",
    "                fov_outs.append(y)\n",
    "                all_targets.append(1 if score > 25 else 0)\n",
    "            targets.append(1 if score > 25 else 0)\n",
    "            outs.append(np.min(fov_outs))\n",
    "score_em(all_targets, all_outs)\n",
    "score_em(targets, outs)"
   ],
   "id": "d568c1f7ec85984",
   "outputs": [
    {
     "name": "stdout",
     "output_type": "stream",
     "text": [
      "0.33999999999999997\n",
      "<class 'numpy.ndarray'> <class 'numpy.float64'>\n",
      "1 -> False\n",
      "1 -> False\n",
      "1 -> False\n",
      "1 -> True\n",
      "1 -> False\n",
      "1 -> False\n",
      "1 -> False\n",
      "1 -> False\n",
      "1 -> False\n",
      "1 -> False\n",
      "0 -> False\n",
      "0 -> False\n",
      "0 -> False\n",
      "0 -> False\n",
      "0 -> False\n",
      "0.5\n",
      "<class 'numpy.ndarray'> <class 'numpy.float64'>\n",
      "1 -> True\n",
      "1 -> False\n",
      "0 -> False\n"
     ]
    },
    {
     "data": {
      "text/plain": [
       "<Figure size 640x480 with 1 Axes>"
      ],
      "image/png": "[encoded data removed]"
     },
     "metadata": {},
     "output_type": "display_data"
    },
    {
     "data": {
      "text/plain": [
       "<Figure size 640x480 with 2 Axes>"
      ],
      "image/png": "[encoded data removed]"
     },
     "metadata": {},
     "output_type": "display_data"
    },
    {
     "data": {
      "text/plain": [
       "<Figure size 640x480 with 2 Axes>"
      ],
      "image/png": "[encoded data removed]"
     },
     "metadata": {},
     "output_type": "display_data"
    },
    {
     "data": {
      "text/plain": [
       "<Figure size 640x480 with 1 Axes>"
      ],
      "image/png": "[encoded data removed]"
     },
     "metadata": {},
     "output_type": "display_data"
    },
    {
     "data": {
      "text/plain": [
       "<Figure size 640x480 with 2 Axes>"
      ],
      "image/png": "[encoded data removed]"
     },
     "metadata": {},
     "output_type": "display_data"
    },
    {
     "data": {
      "text/plain": [
       "<Figure size 640x480 with 2 Axes>"
      ],
      "image/png": "[encoded data removed]"
     },
     "metadata": {},
     "output_type": "display_data"
    }
   ],
   "execution_count": 21
  },
  {
   "metadata": {
    "ExecuteTime": {
     "end_time": "2025-03-05T17:01:44.297335Z",
     "start_time": "2025-03-05T17:01:44.294793Z"
    }
   },
   "cell_type": "code",
   "source": "print(all_outs)",
   "id": "d17810cccd93c374",
   "outputs": [
    {
     "name": "stdout",
     "output_type": "stream",
     "text": [
      "[0.0001045031167450361, 4.194909251964418e-06, 0.0003048111393582076, 0.0009440522408112884, 0.00013723511074203998, 3.5147338621754898e-06, 8.854844963934738e-07, 1.4171220641401305e-07, 0.0004785229975823313, 1.4170685062708799e-05, 2.0514689822448418e-06, 0.00039840448880568147, 0.0005454192869365215, 0.00018947951321024448, 0.00014197245764080435]\n"
     ]
    }
   ],
   "execution_count": 22
  },
  {
   "metadata": {
    "ExecuteTime": {
     "end_time": "2025-03-05T17:01:44.388973Z",
     "start_time": "2025-03-05T17:01:44.386401Z"
    }
   },
   "cell_type": "code",
   "source": [
    "# best NADH_SHG = 0.5153061224489796\n",
    "# epoch500 NADH_SHG ="
   ],
   "id": "5291fbd3df7bd03e",
   "outputs": [],
   "execution_count": 23
  },
  {
   "metadata": {
    "ExecuteTime": {
     "end_time": "2025-03-05T17:01:45.539822Z",
     "start_time": "2025-03-05T17:01:45.537157Z"
    }
   },
   "cell_type": "code",
   "source": "print(fov_outs)",
   "id": "6024565ca1635453",
   "outputs": [
    {
     "name": "stdout",
     "output_type": "stream",
     "text": [
      "[2.0514689822448418e-06, 0.00039840448880568147, 0.0005454192869365215, 0.00018947951321024448, 0.00014197245764080435]\n"
     ]
    }
   ],
   "execution_count": 24
  },
  {
   "metadata": {
    "ExecuteTime": {
     "end_time": "2025-03-05T17:01:46.003052Z",
     "start_time": "2025-03-05T17:01:46.000039Z"
    }
   },
   "cell_type": "code",
   "source": "print(targets)",
   "id": "2fd545cd3a129ef1",
   "outputs": [
    {
     "name": "stdout",
     "output_type": "stream",
     "text": [
      "[1, 1, 0]\n"
     ]
    }
   ],
   "execution_count": 25
  },
  {
   "metadata": {
    "ExecuteTime": {
     "end_time": "2025-03-05T17:01:46.362687Z",
     "start_time": "2025-03-05T17:01:46.354170Z"
    }
   },
   "cell_type": "code",
   "source": "print(outs)",
   "id": "76cef5467801b5a5",
   "outputs": [
    {
     "name": "stdout",
     "output_type": "stream",
     "text": [
      "[np.float64(4.194909251964418e-06), np.float64(1.4171220641401305e-07), np.float64(2.0514689822448418e-06)]\n"
     ]
    }
   ],
   "execution_count": 26
  },
  {
   "metadata": {
    "ExecuteTime": {
     "end_time": "2025-03-05T17:01:47.159800Z",
     "start_time": "2025-03-05T17:01:47.126528Z"
    }
   },
   "cell_type": "code",
   "source": [
    "input_channels = ['nadh','shg']\n",
    "# Load full dataset\n",
    "full_dataset = MicroscopyDataset(\n",
    "    csv_file=\"../data/newData/labels.csv\",\n",
    "    root_dir=\"../data/newData\",\n",
    "    channels = input_channels,\n",
    "    transform=None\n",
    ")"
   ],
   "id": "db237d663fc83ec8",
   "outputs": [
    {
     "name": "stdout",
     "output_type": "stream",
     "text": [
      "Total samples found: 290\n"
     ]
    }
   ],
   "execution_count": 27
  },
  {
   "metadata": {
    "ExecuteTime": {
     "end_time": "2025-03-05T17:01:47.970411Z",
     "start_time": "2025-03-05T17:01:47.963442Z"
    }
   },
   "cell_type": "code",
   "source": "print(full_dataset.sample_wise_paths)",
   "id": "8e70e2bce0fdb45f",
   "outputs": [
    {
     "name": "stdout",
     "output_type": "stream",
     "text": [
      "[[(['../data/newData\\\\Sample_001\\\\fov1\\\\nadh.tiff', '../data/newData\\\\Sample_001\\\\fov1\\\\shg.tiff'], 77), (['../data/newData\\\\Sample_001\\\\fov2\\\\nadh.tiff', '../data/newData\\\\Sample_001\\\\fov2\\\\shg.tiff'], 77), (['../data/newData\\\\Sample_001\\\\fov3\\\\nadh.tiff', '../data/newData\\\\Sample_001\\\\fov3\\\\shg.tiff'], 77), (['../data/newData\\\\Sample_001\\\\fov4\\\\nadh.tiff', '../data/newData\\\\Sample_001\\\\fov4\\\\shg.tiff'], 77), (['../data/newData\\\\Sample_001\\\\fov5\\\\nadh.tiff', '../data/newData\\\\Sample_001\\\\fov5\\\\shg.tiff'], 77)], [(['../data/newData\\\\Sample_002\\\\fov1\\\\nadh.tiff', '../data/newData\\\\Sample_002\\\\fov1\\\\shg.tiff'], 28), (['../data/newData\\\\Sample_002\\\\fov2\\\\nadh.tiff', '../data/newData\\\\Sample_002\\\\fov2\\\\shg.tiff'], 28), (['../data/newData\\\\Sample_002\\\\fov3\\\\nadh.tiff', '../data/newData\\\\Sample_002\\\\fov3\\\\shg.tiff'], 28), (['../data/newData\\\\Sample_002\\\\fov4\\\\nadh.tiff', '../data/newData\\\\Sample_002\\\\fov4\\\\shg.tiff'], 28), (['../data/newData\\\\Sample_002\\\\fov5\\\\nadh.tiff', '../data/newData\\\\Sample_002\\\\fov5\\\\shg.tiff'], 28)], [(['../data/newData\\\\Sample_003\\\\fov1\\\\nadh.tiff', '../data/newData\\\\Sample_003\\\\fov1\\\\shg.tiff'], 27), (['../data/newData\\\\Sample_003\\\\fov2\\\\nadh.tiff', '../data/newData\\\\Sample_003\\\\fov2\\\\shg.tiff'], 27), (['../data/newData\\\\Sample_003\\\\fov3\\\\nadh.tiff', '../data/newData\\\\Sample_003\\\\fov3\\\\shg.tiff'], 27), (['../data/newData\\\\Sample_003\\\\fov4\\\\nadh.tiff', '../data/newData\\\\Sample_003\\\\fov4\\\\shg.tiff'], 27), (['../data/newData\\\\Sample_003\\\\fov5\\\\nadh.tiff', '../data/newData\\\\Sample_003\\\\fov5\\\\shg.tiff'], 27)], [(['../data/newData\\\\Sample_004\\\\fov1\\\\nadh.tiff', '../data/newData\\\\Sample_004\\\\fov1\\\\shg.tiff'], 6), (['../data/newData\\\\Sample_004\\\\fov2\\\\nadh.tiff', '../data/newData\\\\Sample_004\\\\fov2\\\\shg.tiff'], 6), (['../data/newData\\\\Sample_004\\\\fov3\\\\nadh.tiff', '../data/newData\\\\Sample_004\\\\fov3\\\\shg.tiff'], 6), (['../data/newData\\\\Sample_004\\\\fov4\\\\nadh.tiff', '../data/newData\\\\Sample_004\\\\fov4\\\\shg.tiff'], 6), (['../data/newData\\\\Sample_004\\\\fov5\\\\nadh.tiff', '../data/newData\\\\Sample_004\\\\fov5\\\\shg.tiff'], 6)], [(['../data/newData\\\\Sample_005\\\\fov1\\\\nadh.tiff', '../data/newData\\\\Sample_005\\\\fov1\\\\shg.tiff'], 52), (['../data/newData\\\\Sample_005\\\\fov2\\\\nadh.tiff', '../data/newData\\\\Sample_005\\\\fov2\\\\shg.tiff'], 52), (['../data/newData\\\\Sample_005\\\\fov3\\\\nadh.tiff', '../data/newData\\\\Sample_005\\\\fov3\\\\shg.tiff'], 52), (['../data/newData\\\\Sample_005\\\\fov4\\\\nadh.tiff', '../data/newData\\\\Sample_005\\\\fov4\\\\shg.tiff'], 52), (['../data/newData\\\\Sample_005\\\\fov5\\\\nadh.tiff', '../data/newData\\\\Sample_005\\\\fov5\\\\shg.tiff'], 52)], [(['../data/newData\\\\Sample_006\\\\fov1\\\\nadh.tiff', '../data/newData\\\\Sample_006\\\\fov1\\\\shg.tiff'], 6), (['../data/newData\\\\Sample_006\\\\fov2\\\\nadh.tiff', '../data/newData\\\\Sample_006\\\\fov2\\\\shg.tiff'], 6), (['../data/newData\\\\Sample_006\\\\fov3\\\\nadh.tiff', '../data/newData\\\\Sample_006\\\\fov3\\\\shg.tiff'], 6), (['../data/newData\\\\Sample_006\\\\fov4\\\\nadh.tiff', '../data/newData\\\\Sample_006\\\\fov4\\\\shg.tiff'], 6), (['../data/newData\\\\Sample_006\\\\fov5\\\\nadh.tiff', '../data/newData\\\\Sample_006\\\\fov5\\\\shg.tiff'], 6)], [(['../data/newData\\\\Sample_007\\\\fov1\\\\nadh.tiff', '../data/newData\\\\Sample_007\\\\fov1\\\\shg.tiff'], 52), (['../data/newData\\\\Sample_007\\\\fov2\\\\nadh.tiff', '../data/newData\\\\Sample_007\\\\fov2\\\\shg.tiff'], 52), (['../data/newData\\\\Sample_007\\\\fov3\\\\nadh.tiff', '../data/newData\\\\Sample_007\\\\fov3\\\\shg.tiff'], 52), (['../data/newData\\\\Sample_007\\\\fov4\\\\nadh.tiff', '../data/newData\\\\Sample_007\\\\fov4\\\\shg.tiff'], 52), (['../data/newData\\\\Sample_007\\\\fov5\\\\nadh.tiff', '../data/newData\\\\Sample_007\\\\fov5\\\\shg.tiff'], 52)], [(['../data/newData\\\\Sample_008\\\\fov1\\\\nadh.tiff', '../data/newData\\\\Sample_008\\\\fov1\\\\shg.tiff'], 7), (['../data/newData\\\\Sample_008\\\\fov2\\\\nadh.tiff', '../data/newData\\\\Sample_008\\\\fov2\\\\shg.tiff'], 7), (['../data/newData\\\\Sample_008\\\\fov3\\\\nadh.tiff', '../data/newData\\\\Sample_008\\\\fov3\\\\shg.tiff'], 7), (['../data/newData\\\\Sample_008\\\\fov4\\\\nadh.tiff', '../data/newData\\\\Sample_008\\\\fov4\\\\shg.tiff'], 7), (['../data/newData\\\\Sample_008\\\\fov5\\\\nadh.tiff', '../data/newData\\\\Sample_008\\\\fov5\\\\shg.tiff'], 7)], [(['../data/newData\\\\Sample_009\\\\fov1\\\\nadh.tiff', '../data/newData\\\\Sample_009\\\\fov1\\\\shg.tiff'], 25), (['../data/newData\\\\Sample_009\\\\fov2\\\\nadh.tiff', '../data/newData\\\\Sample_009\\\\fov2\\\\shg.tiff'], 25), (['../data/newData\\\\Sample_009\\\\fov3\\\\nadh.tiff', '../data/newData\\\\Sample_009\\\\fov3\\\\shg.tiff'], 25), (['../data/newData\\\\Sample_009\\\\fov4\\\\nadh.tiff', '../data/newData\\\\Sample_009\\\\fov4\\\\shg.tiff'], 25), (['../data/newData\\\\Sample_009\\\\fov5\\\\nadh.tiff', '../data/newData\\\\Sample_009\\\\fov5\\\\shg.tiff'], 25)], [(['../data/newData\\\\Sample_010\\\\fov1\\\\nadh.tiff', '../data/newData\\\\Sample_010\\\\fov1\\\\shg.tiff'], 61), (['../data/newData\\\\Sample_010\\\\fov2\\\\nadh.tiff', '../data/newData\\\\Sample_010\\\\fov2\\\\shg.tiff'], 61), (['../data/newData\\\\Sample_010\\\\fov3\\\\nadh.tiff', '../data/newData\\\\Sample_010\\\\fov3\\\\shg.tiff'], 61), (['../data/newData\\\\Sample_010\\\\fov4\\\\nadh.tiff', '../data/newData\\\\Sample_010\\\\fov4\\\\shg.tiff'], 61), (['../data/newData\\\\Sample_010\\\\fov5\\\\nadh.tiff', '../data/newData\\\\Sample_010\\\\fov5\\\\shg.tiff'], 61)], [(['../data/newData\\\\Sample_011\\\\fov1\\\\nadh.tiff', '../data/newData\\\\Sample_011\\\\fov1\\\\shg.tiff'], 8), (['../data/newData\\\\Sample_011\\\\fov2\\\\nadh.tiff', '../data/newData\\\\Sample_011\\\\fov2\\\\shg.tiff'], 8), (['../data/newData\\\\Sample_011\\\\fov3\\\\nadh.tiff', '../data/newData\\\\Sample_011\\\\fov3\\\\shg.tiff'], 8), (['../data/newData\\\\Sample_011\\\\fov4\\\\nadh.tiff', '../data/newData\\\\Sample_011\\\\fov4\\\\shg.tiff'], 8), (['../data/newData\\\\Sample_011\\\\fov5\\\\nadh.tiff', '../data/newData\\\\Sample_011\\\\fov5\\\\shg.tiff'], 8)], [(['../data/newData\\\\Sample_012\\\\fov1\\\\nadh.tiff', '../data/newData\\\\Sample_012\\\\fov1\\\\shg.tiff'], 10), (['../data/newData\\\\Sample_012\\\\fov2\\\\nadh.tiff', '../data/newData\\\\Sample_012\\\\fov2\\\\shg.tiff'], 10), (['../data/newData\\\\Sample_012\\\\fov3\\\\nadh.tiff', '../data/newData\\\\Sample_012\\\\fov3\\\\shg.tiff'], 10), (['../data/newData\\\\Sample_012\\\\fov4\\\\nadh.tiff', '../data/newData\\\\Sample_012\\\\fov4\\\\shg.tiff'], 10), (['../data/newData\\\\Sample_012\\\\fov5\\\\nadh.tiff', '../data/newData\\\\Sample_012\\\\fov5\\\\shg.tiff'], 10)], [(['../data/newData\\\\Sample_013\\\\fov1\\\\nadh.tiff', '../data/newData\\\\Sample_013\\\\fov1\\\\shg.tiff'], 33), (['../data/newData\\\\Sample_013\\\\fov2\\\\nadh.tiff', '../data/newData\\\\Sample_013\\\\fov2\\\\shg.tiff'], 33), (['../data/newData\\\\Sample_013\\\\fov3\\\\nadh.tiff', '../data/newData\\\\Sample_013\\\\fov3\\\\shg.tiff'], 33), (['../data/newData\\\\Sample_013\\\\fov4\\\\nadh.tiff', '../data/newData\\\\Sample_013\\\\fov4\\\\shg.tiff'], 33), (['../data/newData\\\\Sample_013\\\\fov5\\\\nadh.tiff', '../data/newData\\\\Sample_013\\\\fov5\\\\shg.tiff'], 33)], [(['../data/newData\\\\Sample_014\\\\fov1\\\\nadh.tiff', '../data/newData\\\\Sample_014\\\\fov1\\\\shg.tiff'], 7), (['../data/newData\\\\Sample_014\\\\fov2\\\\nadh.tiff', '../data/newData\\\\Sample_014\\\\fov2\\\\shg.tiff'], 7), (['../data/newData\\\\Sample_014\\\\fov3\\\\nadh.tiff', '../data/newData\\\\Sample_014\\\\fov3\\\\shg.tiff'], 7), (['../data/newData\\\\Sample_014\\\\fov4\\\\nadh.tiff', '../data/newData\\\\Sample_014\\\\fov4\\\\shg.tiff'], 7), (['../data/newData\\\\Sample_014\\\\fov5\\\\nadh.tiff', '../data/newData\\\\Sample_014\\\\fov5\\\\shg.tiff'], 7)], [(['../data/newData\\\\Sample_015\\\\fov1\\\\nadh.tiff', '../data/newData\\\\Sample_015\\\\fov1\\\\shg.tiff'], 29), (['../data/newData\\\\Sample_015\\\\fov2\\\\nadh.tiff', '../data/newData\\\\Sample_015\\\\fov2\\\\shg.tiff'], 29), (['../data/newData\\\\Sample_015\\\\fov3\\\\nadh.tiff', '../data/newData\\\\Sample_015\\\\fov3\\\\shg.tiff'], 29), (['../data/newData\\\\Sample_015\\\\fov4\\\\nadh.tiff', '../data/newData\\\\Sample_015\\\\fov4\\\\shg.tiff'], 29), (['../data/newData\\\\Sample_015\\\\fov5\\\\nadh.tiff', '../data/newData\\\\Sample_015\\\\fov5\\\\shg.tiff'], 29)], [(['../data/newData\\\\Sample_016\\\\fov1\\\\nadh.tiff', '../data/newData\\\\Sample_016\\\\fov1\\\\shg.tiff'], 8), (['../data/newData\\\\Sample_016\\\\fov2\\\\nadh.tiff', '../data/newData\\\\Sample_016\\\\fov2\\\\shg.tiff'], 8), (['../data/newData\\\\Sample_016\\\\fov3\\\\nadh.tiff', '../data/newData\\\\Sample_016\\\\fov3\\\\shg.tiff'], 8), (['../data/newData\\\\Sample_016\\\\fov4\\\\nadh.tiff', '../data/newData\\\\Sample_016\\\\fov4\\\\shg.tiff'], 8), (['../data/newData\\\\Sample_016\\\\fov5\\\\nadh.tiff', '../data/newData\\\\Sample_016\\\\fov5\\\\shg.tiff'], 8)], [(['../data/newData\\\\Sample_017\\\\fov1\\\\nadh.tiff', '../data/newData\\\\Sample_017\\\\fov1\\\\shg.tiff'], 27), (['../data/newData\\\\Sample_017\\\\fov2\\\\nadh.tiff', '../data/newData\\\\Sample_017\\\\fov2\\\\shg.tiff'], 27), (['../data/newData\\\\Sample_017\\\\fov3\\\\nadh.tiff', '../data/newData\\\\Sample_017\\\\fov3\\\\shg.tiff'], 27), (['../data/newData\\\\Sample_017\\\\fov4\\\\nadh.tiff', '../data/newData\\\\Sample_017\\\\fov4\\\\shg.tiff'], 27), (['../data/newData\\\\Sample_017\\\\fov5\\\\nadh.tiff', '../data/newData\\\\Sample_017\\\\fov5\\\\shg.tiff'], 27)], [(['../data/newData\\\\Sample_018\\\\fov1\\\\nadh.tiff', '../data/newData\\\\Sample_018\\\\fov1\\\\shg.tiff'], 0), (['../data/newData\\\\Sample_018\\\\fov2\\\\nadh.tiff', '../data/newData\\\\Sample_018\\\\fov2\\\\shg.tiff'], 0), (['../data/newData\\\\Sample_018\\\\fov3\\\\nadh.tiff', '../data/newData\\\\Sample_018\\\\fov3\\\\shg.tiff'], 0), (['../data/newData\\\\Sample_018\\\\fov4\\\\nadh.tiff', '../data/newData\\\\Sample_018\\\\fov4\\\\shg.tiff'], 0), (['../data/newData\\\\Sample_018\\\\fov5\\\\nadh.tiff', '../data/newData\\\\Sample_018\\\\fov5\\\\shg.tiff'], 0)], [(['../data/newData\\\\Sample_019\\\\fov1\\\\nadh.tiff', '../data/newData\\\\Sample_019\\\\fov1\\\\shg.tiff'], 3), (['../data/newData\\\\Sample_019\\\\fov2\\\\nadh.tiff', '../data/newData\\\\Sample_019\\\\fov2\\\\shg.tiff'], 3), (['../data/newData\\\\Sample_019\\\\fov3\\\\nadh.tiff', '../data/newData\\\\Sample_019\\\\fov3\\\\shg.tiff'], 3), (['../data/newData\\\\Sample_019\\\\fov4\\\\nadh.tiff', '../data/newData\\\\Sample_019\\\\fov4\\\\shg.tiff'], 3), (['../data/newData\\\\Sample_019\\\\fov5\\\\nadh.tiff', '../data/newData\\\\Sample_019\\\\fov5\\\\shg.tiff'], 3)], [(['../data/newData\\\\Sample_020\\\\fov1\\\\nadh.tiff', '../data/newData\\\\Sample_020\\\\fov1\\\\shg.tiff'], 4), (['../data/newData\\\\Sample_020\\\\fov2\\\\nadh.tiff', '../data/newData\\\\Sample_020\\\\fov2\\\\shg.tiff'], 4), (['../data/newData\\\\Sample_020\\\\fov3\\\\nadh.tiff', '../data/newData\\\\Sample_020\\\\fov3\\\\shg.tiff'], 4), (['../data/newData\\\\Sample_020\\\\fov4\\\\nadh.tiff', '../data/newData\\\\Sample_020\\\\fov4\\\\shg.tiff'], 4), (['../data/newData\\\\Sample_020\\\\fov5\\\\nadh.tiff', '../data/newData\\\\Sample_020\\\\fov5\\\\shg.tiff'], 4)], [(['../data/newData\\\\Sample_022\\\\fov1\\\\nadh.tiff', '../data/newData\\\\Sample_022\\\\fov1\\\\shg.tiff'], 30), (['../data/newData\\\\Sample_022\\\\fov2\\\\nadh.tiff', '../data/newData\\\\Sample_022\\\\fov2\\\\shg.tiff'], 30), (['../data/newData\\\\Sample_022\\\\fov3\\\\nadh.tiff', '../data/newData\\\\Sample_022\\\\fov3\\\\shg.tiff'], 30), (['../data/newData\\\\Sample_022\\\\fov4\\\\nadh.tiff', '../data/newData\\\\Sample_022\\\\fov4\\\\shg.tiff'], 30), (['../data/newData\\\\Sample_022\\\\fov5\\\\nadh.tiff', '../data/newData\\\\Sample_022\\\\fov5\\\\shg.tiff'], 30)], [(['../data/newData\\\\Sample_023\\\\fov1\\\\nadh.tiff', '../data/newData\\\\Sample_023\\\\fov1\\\\shg.tiff'], 34), (['../data/newData\\\\Sample_023\\\\fov2\\\\nadh.tiff', '../data/newData\\\\Sample_023\\\\fov2\\\\shg.tiff'], 34), (['../data/newData\\\\Sample_023\\\\fov3\\\\nadh.tiff', '../data/newData\\\\Sample_023\\\\fov3\\\\shg.tiff'], 34), (['../data/newData\\\\Sample_023\\\\fov4\\\\nadh.tiff', '../data/newData\\\\Sample_023\\\\fov4\\\\shg.tiff'], 34), (['../data/newData\\\\Sample_023\\\\fov5\\\\nadh.tiff', '../data/newData\\\\Sample_023\\\\fov5\\\\shg.tiff'], 34)], [(['../data/newData\\\\Sample_024\\\\fov1\\\\nadh.tiff', '../data/newData\\\\Sample_024\\\\fov1\\\\shg.tiff'], 9), (['../data/newData\\\\Sample_024\\\\fov2\\\\nadh.tiff', '../data/newData\\\\Sample_024\\\\fov2\\\\shg.tiff'], 9), (['../data/newData\\\\Sample_024\\\\fov3\\\\nadh.tiff', '../data/newData\\\\Sample_024\\\\fov3\\\\shg.tiff'], 9), (['../data/newData\\\\Sample_024\\\\fov4\\\\nadh.tiff', '../data/newData\\\\Sample_024\\\\fov4\\\\shg.tiff'], 9), (['../data/newData\\\\Sample_024\\\\fov5\\\\nadh.tiff', '../data/newData\\\\Sample_024\\\\fov5\\\\shg.tiff'], 9)], [(['../data/newData\\\\Sample_025\\\\fov1\\\\nadh.tiff', '../data/newData\\\\Sample_025\\\\fov1\\\\shg.tiff'], 10), (['../data/newData\\\\Sample_025\\\\fov2\\\\nadh.tiff', '../data/newData\\\\Sample_025\\\\fov2\\\\shg.tiff'], 10), (['../data/newData\\\\Sample_025\\\\fov3\\\\nadh.tiff', '../data/newData\\\\Sample_025\\\\fov3\\\\shg.tiff'], 10), (['../data/newData\\\\Sample_025\\\\fov4\\\\nadh.tiff', '../data/newData\\\\Sample_025\\\\fov4\\\\shg.tiff'], 10), (['../data/newData\\\\Sample_025\\\\fov5\\\\nadh.tiff', '../data/newData\\\\Sample_025\\\\fov5\\\\shg.tiff'], 10)], [(['../data/newData\\\\Sample_026\\\\fov1\\\\nadh.tiff', '../data/newData\\\\Sample_026\\\\fov1\\\\shg.tiff'], 9), (['../data/newData\\\\Sample_026\\\\fov2\\\\nadh.tiff', '../data/newData\\\\Sample_026\\\\fov2\\\\shg.tiff'], 9), (['../data/newData\\\\Sample_026\\\\fov3\\\\nadh.tiff', '../data/newData\\\\Sample_026\\\\fov3\\\\shg.tiff'], 9), (['../data/newData\\\\Sample_026\\\\fov4\\\\nadh.tiff', '../data/newData\\\\Sample_026\\\\fov4\\\\shg.tiff'], 9), (['../data/newData\\\\Sample_026\\\\fov5\\\\nadh.tiff', '../data/newData\\\\Sample_026\\\\fov5\\\\shg.tiff'], 9)], [(['../data/newData\\\\Sample_027\\\\fov1\\\\nadh.tiff', '../data/newData\\\\Sample_027\\\\fov1\\\\shg.tiff'], 30), (['../data/newData\\\\Sample_027\\\\fov2\\\\nadh.tiff', '../data/newData\\\\Sample_027\\\\fov2\\\\shg.tiff'], 30), (['../data/newData\\\\Sample_027\\\\fov3\\\\nadh.tiff', '../data/newData\\\\Sample_027\\\\fov3\\\\shg.tiff'], 30), (['../data/newData\\\\Sample_027\\\\fov4\\\\nadh.tiff', '../data/newData\\\\Sample_027\\\\fov4\\\\shg.tiff'], 30), (['../data/newData\\\\Sample_027\\\\fov5\\\\nadh.tiff', '../data/newData\\\\Sample_027\\\\fov5\\\\shg.tiff'], 30)], [(['../data/newData\\\\Sample_028\\\\fov1\\\\nadh.tiff', '../data/newData\\\\Sample_028\\\\fov1\\\\shg.tiff'], 28), (['../data/newData\\\\Sample_028\\\\fov2\\\\nadh.tiff', '../data/newData\\\\Sample_028\\\\fov2\\\\shg.tiff'], 28), (['../data/newData\\\\Sample_028\\\\fov3\\\\nadh.tiff', '../data/newData\\\\Sample_028\\\\fov3\\\\shg.tiff'], 28), (['../data/newData\\\\Sample_028\\\\fov4\\\\nadh.tiff', '../data/newData\\\\Sample_028\\\\fov4\\\\shg.tiff'], 28), (['../data/newData\\\\Sample_028\\\\fov5\\\\nadh.tiff', '../data/newData\\\\Sample_028\\\\fov5\\\\shg.tiff'], 28)], [(['../data/newData\\\\Sample_029\\\\fov1\\\\nadh.tiff', '../data/newData\\\\Sample_029\\\\fov1\\\\shg.tiff'], 37), (['../data/newData\\\\Sample_029\\\\fov2\\\\nadh.tiff', '../data/newData\\\\Sample_029\\\\fov2\\\\shg.tiff'], 37), (['../data/newData\\\\Sample_029\\\\fov3\\\\nadh.tiff', '../data/newData\\\\Sample_029\\\\fov3\\\\shg.tiff'], 37), (['../data/newData\\\\Sample_029\\\\fov4\\\\nadh.tiff', '../data/newData\\\\Sample_029\\\\fov4\\\\shg.tiff'], 37), (['../data/newData\\\\Sample_029\\\\fov5\\\\nadh.tiff', '../data/newData\\\\Sample_029\\\\fov5\\\\shg.tiff'], 37)], [(['../data/newData\\\\Sample_030\\\\fov1\\\\nadh.tiff', '../data/newData\\\\Sample_030\\\\fov1\\\\shg.tiff'], 8), (['../data/newData\\\\Sample_030\\\\fov2\\\\nadh.tiff', '../data/newData\\\\Sample_030\\\\fov2\\\\shg.tiff'], 8), (['../data/newData\\\\Sample_030\\\\fov3\\\\nadh.tiff', '../data/newData\\\\Sample_030\\\\fov3\\\\shg.tiff'], 8), (['../data/newData\\\\Sample_030\\\\fov4\\\\nadh.tiff', '../data/newData\\\\Sample_030\\\\fov4\\\\shg.tiff'], 8), (['../data/newData\\\\Sample_030\\\\fov5\\\\nadh.tiff', '../data/newData\\\\Sample_030\\\\fov5\\\\shg.tiff'], 8)]]\n"
     ]
    }
   ],
   "execution_count": 28
  },
  {
   "metadata": {
    "ExecuteTime": {
     "end_time": "2025-03-05T17:01:48.938969Z",
     "start_time": "2025-03-05T17:01:48.931755Z"
    }
   },
   "cell_type": "code",
   "source": [
    "samples_list = full_dataset.sample_wise_paths\n",
    "print(samples_list)"
   ],
   "id": "750c1d3d99755667",
   "outputs": [
    {
     "name": "stdout",
     "output_type": "stream",
     "text": [
      "[[(['../data/newData\\\\Sample_001\\\\fov1\\\\nadh.tiff', '../data/newData\\\\Sample_001\\\\fov1\\\\shg.tiff'], 77), (['../data/newData\\\\Sample_001\\\\fov2\\\\nadh.tiff', '../data/newData\\\\Sample_001\\\\fov2\\\\shg.tiff'], 77), (['../data/newData\\\\Sample_001\\\\fov3\\\\nadh.tiff', '../data/newData\\\\Sample_001\\\\fov3\\\\shg.tiff'], 77), (['../data/newData\\\\Sample_001\\\\fov4\\\\nadh.tiff', '../data/newData\\\\Sample_001\\\\fov4\\\\shg.tiff'], 77), (['../data/newData\\\\Sample_001\\\\fov5\\\\nadh.tiff', '../data/newData\\\\Sample_001\\\\fov5\\\\shg.tiff'], 77)], [(['../data/newData\\\\Sample_002\\\\fov1\\\\nadh.tiff', '../data/newData\\\\Sample_002\\\\fov1\\\\shg.tiff'], 28), (['../data/newData\\\\Sample_002\\\\fov2\\\\nadh.tiff', '../data/newData\\\\Sample_002\\\\fov2\\\\shg.tiff'], 28), (['../data/newData\\\\Sample_002\\\\fov3\\\\nadh.tiff', '../data/newData\\\\Sample_002\\\\fov3\\\\shg.tiff'], 28), (['../data/newData\\\\Sample_002\\\\fov4\\\\nadh.tiff', '../data/newData\\\\Sample_002\\\\fov4\\\\shg.tiff'], 28), (['../data/newData\\\\Sample_002\\\\fov5\\\\nadh.tiff', '../data/newData\\\\Sample_002\\\\fov5\\\\shg.tiff'], 28)], [(['../data/newData\\\\Sample_003\\\\fov1\\\\nadh.tiff', '../data/newData\\\\Sample_003\\\\fov1\\\\shg.tiff'], 27), (['../data/newData\\\\Sample_003\\\\fov2\\\\nadh.tiff', '../data/newData\\\\Sample_003\\\\fov2\\\\shg.tiff'], 27), (['../data/newData\\\\Sample_003\\\\fov3\\\\nadh.tiff', '../data/newData\\\\Sample_003\\\\fov3\\\\shg.tiff'], 27), (['../data/newData\\\\Sample_003\\\\fov4\\\\nadh.tiff', '../data/newData\\\\Sample_003\\\\fov4\\\\shg.tiff'], 27), (['../data/newData\\\\Sample_003\\\\fov5\\\\nadh.tiff', '../data/newData\\\\Sample_003\\\\fov5\\\\shg.tiff'], 27)], [(['../data/newData\\\\Sample_004\\\\fov1\\\\nadh.tiff', '../data/newData\\\\Sample_004\\\\fov1\\\\shg.tiff'], 6), (['../data/newData\\\\Sample_004\\\\fov2\\\\nadh.tiff', '../data/newData\\\\Sample_004\\\\fov2\\\\shg.tiff'], 6), (['../data/newData\\\\Sample_004\\\\fov3\\\\nadh.tiff', '../data/newData\\\\Sample_004\\\\fov3\\\\shg.tiff'], 6), (['../data/newData\\\\Sample_004\\\\fov4\\\\nadh.tiff', '../data/newData\\\\Sample_004\\\\fov4\\\\shg.tiff'], 6), (['../data/newData\\\\Sample_004\\\\fov5\\\\nadh.tiff', '../data/newData\\\\Sample_004\\\\fov5\\\\shg.tiff'], 6)], [(['../data/newData\\\\Sample_005\\\\fov1\\\\nadh.tiff', '../data/newData\\\\Sample_005\\\\fov1\\\\shg.tiff'], 52), (['../data/newData\\\\Sample_005\\\\fov2\\\\nadh.tiff', '../data/newData\\\\Sample_005\\\\fov2\\\\shg.tiff'], 52), (['../data/newData\\\\Sample_005\\\\fov3\\\\nadh.tiff', '../data/newData\\\\Sample_005\\\\fov3\\\\shg.tiff'], 52), (['../data/newData\\\\Sample_005\\\\fov4\\\\nadh.tiff', '../data/newData\\\\Sample_005\\\\fov4\\\\shg.tiff'], 52), (['../data/newData\\\\Sample_005\\\\fov5\\\\nadh.tiff', '../data/newData\\\\Sample_005\\\\fov5\\\\shg.tiff'], 52)], [(['../data/newData\\\\Sample_006\\\\fov1\\\\nadh.tiff', '../data/newData\\\\Sample_006\\\\fov1\\\\shg.tiff'], 6), (['../data/newData\\\\Sample_006\\\\fov2\\\\nadh.tiff', '../data/newData\\\\Sample_006\\\\fov2\\\\shg.tiff'], 6), (['../data/newData\\\\Sample_006\\\\fov3\\\\nadh.tiff', '../data/newData\\\\Sample_006\\\\fov3\\\\shg.tiff'], 6), (['../data/newData\\\\Sample_006\\\\fov4\\\\nadh.tiff', '../data/newData\\\\Sample_006\\\\fov4\\\\shg.tiff'], 6), (['../data/newData\\\\Sample_006\\\\fov5\\\\nadh.tiff', '../data/newData\\\\Sample_006\\\\fov5\\\\shg.tiff'], 6)], [(['../data/newData\\\\Sample_007\\\\fov1\\\\nadh.tiff', '../data/newData\\\\Sample_007\\\\fov1\\\\shg.tiff'], 52), (['../data/newData\\\\Sample_007\\\\fov2\\\\nadh.tiff', '../data/newData\\\\Sample_007\\\\fov2\\\\shg.tiff'], 52), (['../data/newData\\\\Sample_007\\\\fov3\\\\nadh.tiff', '../data/newData\\\\Sample_007\\\\fov3\\\\shg.tiff'], 52), (['../data/newData\\\\Sample_007\\\\fov4\\\\nadh.tiff', '../data/newData\\\\Sample_007\\\\fov4\\\\shg.tiff'], 52), (['../data/newData\\\\Sample_007\\\\fov5\\\\nadh.tiff', '../data/newData\\\\Sample_007\\\\fov5\\\\shg.tiff'], 52)], [(['../data/newData\\\\Sample_008\\\\fov1\\\\nadh.tiff', '../data/newData\\\\Sample_008\\\\fov1\\\\shg.tiff'], 7), (['../data/newData\\\\Sample_008\\\\fov2\\\\nadh.tiff', '../data/newData\\\\Sample_008\\\\fov2\\\\shg.tiff'], 7), (['../data/newData\\\\Sample_008\\\\fov3\\\\nadh.tiff', '../data/newData\\\\Sample_008\\\\fov3\\\\shg.tiff'], 7), (['../data/newData\\\\Sample_008\\\\fov4\\\\nadh.tiff', '../data/newData\\\\Sample_008\\\\fov4\\\\shg.tiff'], 7), (['../data/newData\\\\Sample_008\\\\fov5\\\\nadh.tiff', '../data/newData\\\\Sample_008\\\\fov5\\\\shg.tiff'], 7)], [(['../data/newData\\\\Sample_009\\\\fov1\\\\nadh.tiff', '../data/newData\\\\Sample_009\\\\fov1\\\\shg.tiff'], 25), (['../data/newData\\\\Sample_009\\\\fov2\\\\nadh.tiff', '../data/newData\\\\Sample_009\\\\fov2\\\\shg.tiff'], 25), (['../data/newData\\\\Sample_009\\\\fov3\\\\nadh.tiff', '../data/newData\\\\Sample_009\\\\fov3\\\\shg.tiff'], 25), (['../data/newData\\\\Sample_009\\\\fov4\\\\nadh.tiff', '../data/newData\\\\Sample_009\\\\fov4\\\\shg.tiff'], 25), (['../data/newData\\\\Sample_009\\\\fov5\\\\nadh.tiff', '../data/newData\\\\Sample_009\\\\fov5\\\\shg.tiff'], 25)], [(['../data/newData\\\\Sample_010\\\\fov1\\\\nadh.tiff', '../data/newData\\\\Sample_010\\\\fov1\\\\shg.tiff'], 61), (['../data/newData\\\\Sample_010\\\\fov2\\\\nadh.tiff', '../data/newData\\\\Sample_010\\\\fov2\\\\shg.tiff'], 61), (['../data/newData\\\\Sample_010\\\\fov3\\\\nadh.tiff', '../data/newData\\\\Sample_010\\\\fov3\\\\shg.tiff'], 61), (['../data/newData\\\\Sample_010\\\\fov4\\\\nadh.tiff', '../data/newData\\\\Sample_010\\\\fov4\\\\shg.tiff'], 61), (['../data/newData\\\\Sample_010\\\\fov5\\\\nadh.tiff', '../data/newData\\\\Sample_010\\\\fov5\\\\shg.tiff'], 61)], [(['../data/newData\\\\Sample_011\\\\fov1\\\\nadh.tiff', '../data/newData\\\\Sample_011\\\\fov1\\\\shg.tiff'], 8), (['../data/newData\\\\Sample_011\\\\fov2\\\\nadh.tiff', '../data/newData\\\\Sample_011\\\\fov2\\\\shg.tiff'], 8), (['../data/newData\\\\Sample_011\\\\fov3\\\\nadh.tiff', '../data/newData\\\\Sample_011\\\\fov3\\\\shg.tiff'], 8), (['../data/newData\\\\Sample_011\\\\fov4\\\\nadh.tiff', '../data/newData\\\\Sample_011\\\\fov4\\\\shg.tiff'], 8), (['../data/newData\\\\Sample_011\\\\fov5\\\\nadh.tiff', '../data/newData\\\\Sample_011\\\\fov5\\\\shg.tiff'], 8)], [(['../data/newData\\\\Sample_012\\\\fov1\\\\nadh.tiff', '../data/newData\\\\Sample_012\\\\fov1\\\\shg.tiff'], 10), (['../data/newData\\\\Sample_012\\\\fov2\\\\nadh.tiff', '../data/newData\\\\Sample_012\\\\fov2\\\\shg.tiff'], 10), (['../data/newData\\\\Sample_012\\\\fov3\\\\nadh.tiff', '../data/newData\\\\Sample_012\\\\fov3\\\\shg.tiff'], 10), (['../data/newData\\\\Sample_012\\\\fov4\\\\nadh.tiff', '../data/newData\\\\Sample_012\\\\fov4\\\\shg.tiff'], 10), (['../data/newData\\\\Sample_012\\\\fov5\\\\nadh.tiff', '../data/newData\\\\Sample_012\\\\fov5\\\\shg.tiff'], 10)], [(['../data/newData\\\\Sample_013\\\\fov1\\\\nadh.tiff', '../data/newData\\\\Sample_013\\\\fov1\\\\shg.tiff'], 33), (['../data/newData\\\\Sample_013\\\\fov2\\\\nadh.tiff', '../data/newData\\\\Sample_013\\\\fov2\\\\shg.tiff'], 33), (['../data/newData\\\\Sample_013\\\\fov3\\\\nadh.tiff', '../data/newData\\\\Sample_013\\\\fov3\\\\shg.tiff'], 33), (['../data/newData\\\\Sample_013\\\\fov4\\\\nadh.tiff', '../data/newData\\\\Sample_013\\\\fov4\\\\shg.tiff'], 33), (['../data/newData\\\\Sample_013\\\\fov5\\\\nadh.tiff', '../data/newData\\\\Sample_013\\\\fov5\\\\shg.tiff'], 33)], [(['../data/newData\\\\Sample_014\\\\fov1\\\\nadh.tiff', '../data/newData\\\\Sample_014\\\\fov1\\\\shg.tiff'], 7), (['../data/newData\\\\Sample_014\\\\fov2\\\\nadh.tiff', '../data/newData\\\\Sample_014\\\\fov2\\\\shg.tiff'], 7), (['../data/newData\\\\Sample_014\\\\fov3\\\\nadh.tiff', '../data/newData\\\\Sample_014\\\\fov3\\\\shg.tiff'], 7), (['../data/newData\\\\Sample_014\\\\fov4\\\\nadh.tiff', '../data/newData\\\\Sample_014\\\\fov4\\\\shg.tiff'], 7), (['../data/newData\\\\Sample_014\\\\fov5\\\\nadh.tiff', '../data/newData\\\\Sample_014\\\\fov5\\\\shg.tiff'], 7)], [(['../data/newData\\\\Sample_015\\\\fov1\\\\nadh.tiff', '../data/newData\\\\Sample_015\\\\fov1\\\\shg.tiff'], 29), (['../data/newData\\\\Sample_015\\\\fov2\\\\nadh.tiff', '../data/newData\\\\Sample_015\\\\fov2\\\\shg.tiff'], 29), (['../data/newData\\\\Sample_015\\\\fov3\\\\nadh.tiff', '../data/newData\\\\Sample_015\\\\fov3\\\\shg.tiff'], 29), (['../data/newData\\\\Sample_015\\\\fov4\\\\nadh.tiff', '../data/newData\\\\Sample_015\\\\fov4\\\\shg.tiff'], 29), (['../data/newData\\\\Sample_015\\\\fov5\\\\nadh.tiff', '../data/newData\\\\Sample_015\\\\fov5\\\\shg.tiff'], 29)], [(['../data/newData\\\\Sample_016\\\\fov1\\\\nadh.tiff', '../data/newData\\\\Sample_016\\\\fov1\\\\shg.tiff'], 8), (['../data/newData\\\\Sample_016\\\\fov2\\\\nadh.tiff', '../data/newData\\\\Sample_016\\\\fov2\\\\shg.tiff'], 8), (['../data/newData\\\\Sample_016\\\\fov3\\\\nadh.tiff', '../data/newData\\\\Sample_016\\\\fov3\\\\shg.tiff'], 8), (['../data/newData\\\\Sample_016\\\\fov4\\\\nadh.tiff', '../data/newData\\\\Sample_016\\\\fov4\\\\shg.tiff'], 8), (['../data/newData\\\\Sample_016\\\\fov5\\\\nadh.tiff', '../data/newData\\\\Sample_016\\\\fov5\\\\shg.tiff'], 8)], [(['../data/newData\\\\Sample_017\\\\fov1\\\\nadh.tiff', '../data/newData\\\\Sample_017\\\\fov1\\\\shg.tiff'], 27), (['../data/newData\\\\Sample_017\\\\fov2\\\\nadh.tiff', '../data/newData\\\\Sample_017\\\\fov2\\\\shg.tiff'], 27), (['../data/newData\\\\Sample_017\\\\fov3\\\\nadh.tiff', '../data/newData\\\\Sample_017\\\\fov3\\\\shg.tiff'], 27), (['../data/newData\\\\Sample_017\\\\fov4\\\\nadh.tiff', '../data/newData\\\\Sample_017\\\\fov4\\\\shg.tiff'], 27), (['../data/newData\\\\Sample_017\\\\fov5\\\\nadh.tiff', '../data/newData\\\\Sample_017\\\\fov5\\\\shg.tiff'], 27)], [(['../data/newData\\\\Sample_018\\\\fov1\\\\nadh.tiff', '../data/newData\\\\Sample_018\\\\fov1\\\\shg.tiff'], 0), (['../data/newData\\\\Sample_018\\\\fov2\\\\nadh.tiff', '../data/newData\\\\Sample_018\\\\fov2\\\\shg.tiff'], 0), (['../data/newData\\\\Sample_018\\\\fov3\\\\nadh.tiff', '../data/newData\\\\Sample_018\\\\fov3\\\\shg.tiff'], 0), (['../data/newData\\\\Sample_018\\\\fov4\\\\nadh.tiff', '../data/newData\\\\Sample_018\\\\fov4\\\\shg.tiff'], 0), (['../data/newData\\\\Sample_018\\\\fov5\\\\nadh.tiff', '../data/newData\\\\Sample_018\\\\fov5\\\\shg.tiff'], 0)], [(['../data/newData\\\\Sample_019\\\\fov1\\\\nadh.tiff', '../data/newData\\\\Sample_019\\\\fov1\\\\shg.tiff'], 3), (['../data/newData\\\\Sample_019\\\\fov2\\\\nadh.tiff', '../data/newData\\\\Sample_019\\\\fov2\\\\shg.tiff'], 3), (['../data/newData\\\\Sample_019\\\\fov3\\\\nadh.tiff', '../data/newData\\\\Sample_019\\\\fov3\\\\shg.tiff'], 3), (['../data/newData\\\\Sample_019\\\\fov4\\\\nadh.tiff', '../data/newData\\\\Sample_019\\\\fov4\\\\shg.tiff'], 3), (['../data/newData\\\\Sample_019\\\\fov5\\\\nadh.tiff', '../data/newData\\\\Sample_019\\\\fov5\\\\shg.tiff'], 3)], [(['../data/newData\\\\Sample_020\\\\fov1\\\\nadh.tiff', '../data/newData\\\\Sample_020\\\\fov1\\\\shg.tiff'], 4), (['../data/newData\\\\Sample_020\\\\fov2\\\\nadh.tiff', '../data/newData\\\\Sample_020\\\\fov2\\\\shg.tiff'], 4), (['../data/newData\\\\Sample_020\\\\fov3\\\\nadh.tiff', '../data/newData\\\\Sample_020\\\\fov3\\\\shg.tiff'], 4), (['../data/newData\\\\Sample_020\\\\fov4\\\\nadh.tiff', '../data/newData\\\\Sample_020\\\\fov4\\\\shg.tiff'], 4), (['../data/newData\\\\Sample_020\\\\fov5\\\\nadh.tiff', '../data/newData\\\\Sample_020\\\\fov5\\\\shg.tiff'], 4)], [(['../data/newData\\\\Sample_022\\\\fov1\\\\nadh.tiff', '../data/newData\\\\Sample_022\\\\fov1\\\\shg.tiff'], 30), (['../data/newData\\\\Sample_022\\\\fov2\\\\nadh.tiff', '../data/newData\\\\Sample_022\\\\fov2\\\\shg.tiff'], 30), (['../data/newData\\\\Sample_022\\\\fov3\\\\nadh.tiff', '../data/newData\\\\Sample_022\\\\fov3\\\\shg.tiff'], 30), (['../data/newData\\\\Sample_022\\\\fov4\\\\nadh.tiff', '../data/newData\\\\Sample_022\\\\fov4\\\\shg.tiff'], 30), (['../data/newData\\\\Sample_022\\\\fov5\\\\nadh.tiff', '../data/newData\\\\Sample_022\\\\fov5\\\\shg.tiff'], 30)], [(['../data/newData\\\\Sample_023\\\\fov1\\\\nadh.tiff', '../data/newData\\\\Sample_023\\\\fov1\\\\shg.tiff'], 34), (['../data/newData\\\\Sample_023\\\\fov2\\\\nadh.tiff', '../data/newData\\\\Sample_023\\\\fov2\\\\shg.tiff'], 34), (['../data/newData\\\\Sample_023\\\\fov3\\\\nadh.tiff', '../data/newData\\\\Sample_023\\\\fov3\\\\shg.tiff'], 34), (['../data/newData\\\\Sample_023\\\\fov4\\\\nadh.tiff', '../data/newData\\\\Sample_023\\\\fov4\\\\shg.tiff'], 34), (['../data/newData\\\\Sample_023\\\\fov5\\\\nadh.tiff', '../data/newData\\\\Sample_023\\\\fov5\\\\shg.tiff'], 34)], [(['../data/newData\\\\Sample_024\\\\fov1\\\\nadh.tiff', '../data/newData\\\\Sample_024\\\\fov1\\\\shg.tiff'], 9), (['../data/newData\\\\Sample_024\\\\fov2\\\\nadh.tiff', '../data/newData\\\\Sample_024\\\\fov2\\\\shg.tiff'], 9), (['../data/newData\\\\Sample_024\\\\fov3\\\\nadh.tiff', '../data/newData\\\\Sample_024\\\\fov3\\\\shg.tiff'], 9), (['../data/newData\\\\Sample_024\\\\fov4\\\\nadh.tiff', '../data/newData\\\\Sample_024\\\\fov4\\\\shg.tiff'], 9), (['../data/newData\\\\Sample_024\\\\fov5\\\\nadh.tiff', '../data/newData\\\\Sample_024\\\\fov5\\\\shg.tiff'], 9)], [(['../data/newData\\\\Sample_025\\\\fov1\\\\nadh.tiff', '../data/newData\\\\Sample_025\\\\fov1\\\\shg.tiff'], 10), (['../data/newData\\\\Sample_025\\\\fov2\\\\nadh.tiff', '../data/newData\\\\Sample_025\\\\fov2\\\\shg.tiff'], 10), (['../data/newData\\\\Sample_025\\\\fov3\\\\nadh.tiff', '../data/newData\\\\Sample_025\\\\fov3\\\\shg.tiff'], 10), (['../data/newData\\\\Sample_025\\\\fov4\\\\nadh.tiff', '../data/newData\\\\Sample_025\\\\fov4\\\\shg.tiff'], 10), (['../data/newData\\\\Sample_025\\\\fov5\\\\nadh.tiff', '../data/newData\\\\Sample_025\\\\fov5\\\\shg.tiff'], 10)], [(['../data/newData\\\\Sample_026\\\\fov1\\\\nadh.tiff', '../data/newData\\\\Sample_026\\\\fov1\\\\shg.tiff'], 9), (['../data/newData\\\\Sample_026\\\\fov2\\\\nadh.tiff', '../data/newData\\\\Sample_026\\\\fov2\\\\shg.tiff'], 9), (['../data/newData\\\\Sample_026\\\\fov3\\\\nadh.tiff', '../data/newData\\\\Sample_026\\\\fov3\\\\shg.tiff'], 9), (['../data/newData\\\\Sample_026\\\\fov4\\\\nadh.tiff', '../data/newData\\\\Sample_026\\\\fov4\\\\shg.tiff'], 9), (['../data/newData\\\\Sample_026\\\\fov5\\\\nadh.tiff', '../data/newData\\\\Sample_026\\\\fov5\\\\shg.tiff'], 9)], [(['../data/newData\\\\Sample_027\\\\fov1\\\\nadh.tiff', '../data/newData\\\\Sample_027\\\\fov1\\\\shg.tiff'], 30), (['../data/newData\\\\Sample_027\\\\fov2\\\\nadh.tiff', '../data/newData\\\\Sample_027\\\\fov2\\\\shg.tiff'], 30), (['../data/newData\\\\Sample_027\\\\fov3\\\\nadh.tiff', '../data/newData\\\\Sample_027\\\\fov3\\\\shg.tiff'], 30), (['../data/newData\\\\Sample_027\\\\fov4\\\\nadh.tiff', '../data/newData\\\\Sample_027\\\\fov4\\\\shg.tiff'], 30), (['../data/newData\\\\Sample_027\\\\fov5\\\\nadh.tiff', '../data/newData\\\\Sample_027\\\\fov5\\\\shg.tiff'], 30)], [(['../data/newData\\\\Sample_028\\\\fov1\\\\nadh.tiff', '../data/newData\\\\Sample_028\\\\fov1\\\\shg.tiff'], 28), (['../data/newData\\\\Sample_028\\\\fov2\\\\nadh.tiff', '../data/newData\\\\Sample_028\\\\fov2\\\\shg.tiff'], 28), (['../data/newData\\\\Sample_028\\\\fov3\\\\nadh.tiff', '../data/newData\\\\Sample_028\\\\fov3\\\\shg.tiff'], 28), (['../data/newData\\\\Sample_028\\\\fov4\\\\nadh.tiff', '../data/newData\\\\Sample_028\\\\fov4\\\\shg.tiff'], 28), (['../data/newData\\\\Sample_028\\\\fov5\\\\nadh.tiff', '../data/newData\\\\Sample_028\\\\fov5\\\\shg.tiff'], 28)], [(['../data/newData\\\\Sample_029\\\\fov1\\\\nadh.tiff', '../data/newData\\\\Sample_029\\\\fov1\\\\shg.tiff'], 37), (['../data/newData\\\\Sample_029\\\\fov2\\\\nadh.tiff', '../data/newData\\\\Sample_029\\\\fov2\\\\shg.tiff'], 37), (['../data/newData\\\\Sample_029\\\\fov3\\\\nadh.tiff', '../data/newData\\\\Sample_029\\\\fov3\\\\shg.tiff'], 37), (['../data/newData\\\\Sample_029\\\\fov4\\\\nadh.tiff', '../data/newData\\\\Sample_029\\\\fov4\\\\shg.tiff'], 37), (['../data/newData\\\\Sample_029\\\\fov5\\\\nadh.tiff', '../data/newData\\\\Sample_029\\\\fov5\\\\shg.tiff'], 37)], [(['../data/newData\\\\Sample_030\\\\fov1\\\\nadh.tiff', '../data/newData\\\\Sample_030\\\\fov1\\\\shg.tiff'], 8), (['../data/newData\\\\Sample_030\\\\fov2\\\\nadh.tiff', '../data/newData\\\\Sample_030\\\\fov2\\\\shg.tiff'], 8), (['../data/newData\\\\Sample_030\\\\fov3\\\\nadh.tiff', '../data/newData\\\\Sample_030\\\\fov3\\\\shg.tiff'], 8), (['../data/newData\\\\Sample_030\\\\fov4\\\\nadh.tiff', '../data/newData\\\\Sample_030\\\\fov4\\\\shg.tiff'], 8), (['../data/newData\\\\Sample_030\\\\fov5\\\\nadh.tiff', '../data/newData\\\\Sample_030\\\\fov5\\\\shg.tiff'], 8)]]\n"
     ]
    }
   ],
   "execution_count": 29
  },
  {
   "metadata": {
    "ExecuteTime": {
     "end_time": "2025-03-05T17:01:49.468783Z",
     "start_time": "2025-03-05T17:01:49.461456Z"
    }
   },
   "cell_type": "code",
   "source": [
    "import random\n",
    "random.shuffle(samples_list)\n",
    "print(samples_list)"
   ],
   "id": "4afc96a9cd5b7abf",
   "outputs": [
    {
     "name": "stdout",
     "output_type": "stream",
     "text": [
      "[[(['../data/newData\\\\Sample_001\\\\fov1\\\\nadh.tiff', '../data/newData\\\\Sample_001\\\\fov1\\\\shg.tiff'], 77), (['../data/newData\\\\Sample_001\\\\fov2\\\\nadh.tiff', '../data/newData\\\\Sample_001\\\\fov2\\\\shg.tiff'], 77), (['../data/newData\\\\Sample_001\\\\fov3\\\\nadh.tiff', '../data/newData\\\\Sample_001\\\\fov3\\\\shg.tiff'], 77), (['../data/newData\\\\Sample_001\\\\fov4\\\\nadh.tiff', '../data/newData\\\\Sample_001\\\\fov4\\\\shg.tiff'], 77), (['../data/newData\\\\Sample_001\\\\fov5\\\\nadh.tiff', '../data/newData\\\\Sample_001\\\\fov5\\\\shg.tiff'], 77)], [(['../data/newData\\\\Sample_028\\\\fov1\\\\nadh.tiff', '../data/newData\\\\Sample_028\\\\fov1\\\\shg.tiff'], 28), (['../data/newData\\\\Sample_028\\\\fov2\\\\nadh.tiff', '../data/newData\\\\Sample_028\\\\fov2\\\\shg.tiff'], 28), (['../data/newData\\\\Sample_028\\\\fov3\\\\nadh.tiff', '../data/newData\\\\Sample_028\\\\fov3\\\\shg.tiff'], 28), (['../data/newData\\\\Sample_028\\\\fov4\\\\nadh.tiff', '../data/newData\\\\Sample_028\\\\fov4\\\\shg.tiff'], 28), (['../data/newData\\\\Sample_028\\\\fov5\\\\nadh.tiff', '../data/newData\\\\Sample_028\\\\fov5\\\\shg.tiff'], 28)], [(['../data/newData\\\\Sample_003\\\\fov1\\\\nadh.tiff', '../data/newData\\\\Sample_003\\\\fov1\\\\shg.tiff'], 27), (['../data/newData\\\\Sample_003\\\\fov2\\\\nadh.tiff', '../data/newData\\\\Sample_003\\\\fov2\\\\shg.tiff'], 27), (['../data/newData\\\\Sample_003\\\\fov3\\\\nadh.tiff', '../data/newData\\\\Sample_003\\\\fov3\\\\shg.tiff'], 27), (['../data/newData\\\\Sample_003\\\\fov4\\\\nadh.tiff', '../data/newData\\\\Sample_003\\\\fov4\\\\shg.tiff'], 27), (['../data/newData\\\\Sample_003\\\\fov5\\\\nadh.tiff', '../data/newData\\\\Sample_003\\\\fov5\\\\shg.tiff'], 27)], [(['../data/newData\\\\Sample_006\\\\fov1\\\\nadh.tiff', '../data/newData\\\\Sample_006\\\\fov1\\\\shg.tiff'], 6), (['../data/newData\\\\Sample_006\\\\fov2\\\\nadh.tiff', '../data/newData\\\\Sample_006\\\\fov2\\\\shg.tiff'], 6), (['../data/newData\\\\Sample_006\\\\fov3\\\\nadh.tiff', '../data/newData\\\\Sample_006\\\\fov3\\\\shg.tiff'], 6), (['../data/newData\\\\Sample_006\\\\fov4\\\\nadh.tiff', '../data/newData\\\\Sample_006\\\\fov4\\\\shg.tiff'], 6), (['../data/newData\\\\Sample_006\\\\fov5\\\\nadh.tiff', '../data/newData\\\\Sample_006\\\\fov5\\\\shg.tiff'], 6)], [(['../data/newData\\\\Sample_020\\\\fov1\\\\nadh.tiff', '../data/newData\\\\Sample_020\\\\fov1\\\\shg.tiff'], 4), (['../data/newData\\\\Sample_020\\\\fov2\\\\nadh.tiff', '../data/newData\\\\Sample_020\\\\fov2\\\\shg.tiff'], 4), (['../data/newData\\\\Sample_020\\\\fov3\\\\nadh.tiff', '../data/newData\\\\Sample_020\\\\fov3\\\\shg.tiff'], 4), (['../data/newData\\\\Sample_020\\\\fov4\\\\nadh.tiff', '../data/newData\\\\Sample_020\\\\fov4\\\\shg.tiff'], 4), (['../data/newData\\\\Sample_020\\\\fov5\\\\nadh.tiff', '../data/newData\\\\Sample_020\\\\fov5\\\\shg.tiff'], 4)], [(['../data/newData\\\\Sample_016\\\\fov1\\\\nadh.tiff', '../data/newData\\\\Sample_016\\\\fov1\\\\shg.tiff'], 8), (['../data/newData\\\\Sample_016\\\\fov2\\\\nadh.tiff', '../data/newData\\\\Sample_016\\\\fov2\\\\shg.tiff'], 8), (['../data/newData\\\\Sample_016\\\\fov3\\\\nadh.tiff', '../data/newData\\\\Sample_016\\\\fov3\\\\shg.tiff'], 8), (['../data/newData\\\\Sample_016\\\\fov4\\\\nadh.tiff', '../data/newData\\\\Sample_016\\\\fov4\\\\shg.tiff'], 8), (['../data/newData\\\\Sample_016\\\\fov5\\\\nadh.tiff', '../data/newData\\\\Sample_016\\\\fov5\\\\shg.tiff'], 8)], [(['../data/newData\\\\Sample_015\\\\fov1\\\\nadh.tiff', '../data/newData\\\\Sample_015\\\\fov1\\\\shg.tiff'], 29), (['../data/newData\\\\Sample_015\\\\fov2\\\\nadh.tiff', '../data/newData\\\\Sample_015\\\\fov2\\\\shg.tiff'], 29), (['../data/newData\\\\Sample_015\\\\fov3\\\\nadh.tiff', '../data/newData\\\\Sample_015\\\\fov3\\\\shg.tiff'], 29), (['../data/newData\\\\Sample_015\\\\fov4\\\\nadh.tiff', '../data/newData\\\\Sample_015\\\\fov4\\\\shg.tiff'], 29), (['../data/newData\\\\Sample_015\\\\fov5\\\\nadh.tiff', '../data/newData\\\\Sample_015\\\\fov5\\\\shg.tiff'], 29)], [(['../data/newData\\\\Sample_017\\\\fov1\\\\nadh.tiff', '../data/newData\\\\Sample_017\\\\fov1\\\\shg.tiff'], 27), (['../data/newData\\\\Sample_017\\\\fov2\\\\nadh.tiff', '../data/newData\\\\Sample_017\\\\fov2\\\\shg.tiff'], 27), (['../data/newData\\\\Sample_017\\\\fov3\\\\nadh.tiff', '../data/newData\\\\Sample_017\\\\fov3\\\\shg.tiff'], 27), (['../data/newData\\\\Sample_017\\\\fov4\\\\nadh.tiff', '../data/newData\\\\Sample_017\\\\fov4\\\\shg.tiff'], 27), (['../data/newData\\\\Sample_017\\\\fov5\\\\nadh.tiff', '../data/newData\\\\Sample_017\\\\fov5\\\\shg.tiff'], 27)], [(['../data/newData\\\\Sample_009\\\\fov1\\\\nadh.tiff', '../data/newData\\\\Sample_009\\\\fov1\\\\shg.tiff'], 25), (['../data/newData\\\\Sample_009\\\\fov2\\\\nadh.tiff', '../data/newData\\\\Sample_009\\\\fov2\\\\shg.tiff'], 25), (['../data/newData\\\\Sample_009\\\\fov3\\\\nadh.tiff', '../data/newData\\\\Sample_009\\\\fov3\\\\shg.tiff'], 25), (['../data/newData\\\\Sample_009\\\\fov4\\\\nadh.tiff', '../data/newData\\\\Sample_009\\\\fov4\\\\shg.tiff'], 25), (['../data/newData\\\\Sample_009\\\\fov5\\\\nadh.tiff', '../data/newData\\\\Sample_009\\\\fov5\\\\shg.tiff'], 25)], [(['../data/newData\\\\Sample_029\\\\fov1\\\\nadh.tiff', '../data/newData\\\\Sample_029\\\\fov1\\\\shg.tiff'], 37), (['../data/newData\\\\Sample_029\\\\fov2\\\\nadh.tiff', '../data/newData\\\\Sample_029\\\\fov2\\\\shg.tiff'], 37), (['../data/newData\\\\Sample_029\\\\fov3\\\\nadh.tiff', '../data/newData\\\\Sample_029\\\\fov3\\\\shg.tiff'], 37), (['../data/newData\\\\Sample_029\\\\fov4\\\\nadh.tiff', '../data/newData\\\\Sample_029\\\\fov4\\\\shg.tiff'], 37), (['../data/newData\\\\Sample_029\\\\fov5\\\\nadh.tiff', '../data/newData\\\\Sample_029\\\\fov5\\\\shg.tiff'], 37)], [(['../data/newData\\\\Sample_022\\\\fov1\\\\nadh.tiff', '../data/newData\\\\Sample_022\\\\fov1\\\\shg.tiff'], 30), (['../data/newData\\\\Sample_022\\\\fov2\\\\nadh.tiff', '../data/newData\\\\Sample_022\\\\fov2\\\\shg.tiff'], 30), (['../data/newData\\\\Sample_022\\\\fov3\\\\nadh.tiff', '../data/newData\\\\Sample_022\\\\fov3\\\\shg.tiff'], 30), (['../data/newData\\\\Sample_022\\\\fov4\\\\nadh.tiff', '../data/newData\\\\Sample_022\\\\fov4\\\\shg.tiff'], 30), (['../data/newData\\\\Sample_022\\\\fov5\\\\nadh.tiff', '../data/newData\\\\Sample_022\\\\fov5\\\\shg.tiff'], 30)], [(['../data/newData\\\\Sample_019\\\\fov1\\\\nadh.tiff', '../data/newData\\\\Sample_019\\\\fov1\\\\shg.tiff'], 3), (['../data/newData\\\\Sample_019\\\\fov2\\\\nadh.tiff', '../data/newData\\\\Sample_019\\\\fov2\\\\shg.tiff'], 3), (['../data/newData\\\\Sample_019\\\\fov3\\\\nadh.tiff', '../data/newData\\\\Sample_019\\\\fov3\\\\shg.tiff'], 3), (['../data/newData\\\\Sample_019\\\\fov4\\\\nadh.tiff', '../data/newData\\\\Sample_019\\\\fov4\\\\shg.tiff'], 3), (['../data/newData\\\\Sample_019\\\\fov5\\\\nadh.tiff', '../data/newData\\\\Sample_019\\\\fov5\\\\shg.tiff'], 3)], [(['../data/newData\\\\Sample_008\\\\fov1\\\\nadh.tiff', '../data/newData\\\\Sample_008\\\\fov1\\\\shg.tiff'], 7), (['../data/newData\\\\Sample_008\\\\fov2\\\\nadh.tiff', '../data/newData\\\\Sample_008\\\\fov2\\\\shg.tiff'], 7), (['../data/newData\\\\Sample_008\\\\fov3\\\\nadh.tiff', '../data/newData\\\\Sample_008\\\\fov3\\\\shg.tiff'], 7), (['../data/newData\\\\Sample_008\\\\fov4\\\\nadh.tiff', '../data/newData\\\\Sample_008\\\\fov4\\\\shg.tiff'], 7), (['../data/newData\\\\Sample_008\\\\fov5\\\\nadh.tiff', '../data/newData\\\\Sample_008\\\\fov5\\\\shg.tiff'], 7)], [(['../data/newData\\\\Sample_010\\\\fov1\\\\nadh.tiff', '../data/newData\\\\Sample_010\\\\fov1\\\\shg.tiff'], 61), (['../data/newData\\\\Sample_010\\\\fov2\\\\nadh.tiff', '../data/newData\\\\Sample_010\\\\fov2\\\\shg.tiff'], 61), (['../data/newData\\\\Sample_010\\\\fov3\\\\nadh.tiff', '../data/newData\\\\Sample_010\\\\fov3\\\\shg.tiff'], 61), (['../data/newData\\\\Sample_010\\\\fov4\\\\nadh.tiff', '../data/newData\\\\Sample_010\\\\fov4\\\\shg.tiff'], 61), (['../data/newData\\\\Sample_010\\\\fov5\\\\nadh.tiff', '../data/newData\\\\Sample_010\\\\fov5\\\\shg.tiff'], 61)], [(['../data/newData\\\\Sample_026\\\\fov1\\\\nadh.tiff', '../data/newData\\\\Sample_026\\\\fov1\\\\shg.tiff'], 9), (['../data/newData\\\\Sample_026\\\\fov2\\\\nadh.tiff', '../data/newData\\\\Sample_026\\\\fov2\\\\shg.tiff'], 9), (['../data/newData\\\\Sample_026\\\\fov3\\\\nadh.tiff', '../data/newData\\\\Sample_026\\\\fov3\\\\shg.tiff'], 9), (['../data/newData\\\\Sample_026\\\\fov4\\\\nadh.tiff', '../data/newData\\\\Sample_026\\\\fov4\\\\shg.tiff'], 9), (['../data/newData\\\\Sample_026\\\\fov5\\\\nadh.tiff', '../data/newData\\\\Sample_026\\\\fov5\\\\shg.tiff'], 9)], [(['../data/newData\\\\Sample_023\\\\fov1\\\\nadh.tiff', '../data/newData\\\\Sample_023\\\\fov1\\\\shg.tiff'], 34), (['../data/newData\\\\Sample_023\\\\fov2\\\\nadh.tiff', '../data/newData\\\\Sample_023\\\\fov2\\\\shg.tiff'], 34), (['../data/newData\\\\Sample_023\\\\fov3\\\\nadh.tiff', '../data/newData\\\\Sample_023\\\\fov3\\\\shg.tiff'], 34), (['../data/newData\\\\Sample_023\\\\fov4\\\\nadh.tiff', '../data/newData\\\\Sample_023\\\\fov4\\\\shg.tiff'], 34), (['../data/newData\\\\Sample_023\\\\fov5\\\\nadh.tiff', '../data/newData\\\\Sample_023\\\\fov5\\\\shg.tiff'], 34)], [(['../data/newData\\\\Sample_030\\\\fov1\\\\nadh.tiff', '../data/newData\\\\Sample_030\\\\fov1\\\\shg.tiff'], 8), (['../data/newData\\\\Sample_030\\\\fov2\\\\nadh.tiff', '../data/newData\\\\Sample_030\\\\fov2\\\\shg.tiff'], 8), (['../data/newData\\\\Sample_030\\\\fov3\\\\nadh.tiff', '../data/newData\\\\Sample_030\\\\fov3\\\\shg.tiff'], 8), (['../data/newData\\\\Sample_030\\\\fov4\\\\nadh.tiff', '../data/newData\\\\Sample_030\\\\fov4\\\\shg.tiff'], 8), (['../data/newData\\\\Sample_030\\\\fov5\\\\nadh.tiff', '../data/newData\\\\Sample_030\\\\fov5\\\\shg.tiff'], 8)], [(['../data/newData\\\\Sample_018\\\\fov1\\\\nadh.tiff', '../data/newData\\\\Sample_018\\\\fov1\\\\shg.tiff'], 0), (['../data/newData\\\\Sample_018\\\\fov2\\\\nadh.tiff', '../data/newData\\\\Sample_018\\\\fov2\\\\shg.tiff'], 0), (['../data/newData\\\\Sample_018\\\\fov3\\\\nadh.tiff', '../data/newData\\\\Sample_018\\\\fov3\\\\shg.tiff'], 0), (['../data/newData\\\\Sample_018\\\\fov4\\\\nadh.tiff', '../data/newData\\\\Sample_018\\\\fov4\\\\shg.tiff'], 0), (['../data/newData\\\\Sample_018\\\\fov5\\\\nadh.tiff', '../data/newData\\\\Sample_018\\\\fov5\\\\shg.tiff'], 0)], [(['../data/newData\\\\Sample_025\\\\fov1\\\\nadh.tiff', '../data/newData\\\\Sample_025\\\\fov1\\\\shg.tiff'], 10), (['../data/newData\\\\Sample_025\\\\fov2\\\\nadh.tiff', '../data/newData\\\\Sample_025\\\\fov2\\\\shg.tiff'], 10), (['../data/newData\\\\Sample_025\\\\fov3\\\\nadh.tiff', '../data/newData\\\\Sample_025\\\\fov3\\\\shg.tiff'], 10), (['../data/newData\\\\Sample_025\\\\fov4\\\\nadh.tiff', '../data/newData\\\\Sample_025\\\\fov4\\\\shg.tiff'], 10), (['../data/newData\\\\Sample_025\\\\fov5\\\\nadh.tiff', '../data/newData\\\\Sample_025\\\\fov5\\\\shg.tiff'], 10)], [(['../data/newData\\\\Sample_007\\\\fov1\\\\nadh.tiff', '../data/newData\\\\Sample_007\\\\fov1\\\\shg.tiff'], 52), (['../data/newData\\\\Sample_007\\\\fov2\\\\nadh.tiff', '../data/newData\\\\Sample_007\\\\fov2\\\\shg.tiff'], 52), (['../data/newData\\\\Sample_007\\\\fov3\\\\nadh.tiff', '../data/newData\\\\Sample_007\\\\fov3\\\\shg.tiff'], 52), (['../data/newData\\\\Sample_007\\\\fov4\\\\nadh.tiff', '../data/newData\\\\Sample_007\\\\fov4\\\\shg.tiff'], 52), (['../data/newData\\\\Sample_007\\\\fov5\\\\nadh.tiff', '../data/newData\\\\Sample_007\\\\fov5\\\\shg.tiff'], 52)], [(['../data/newData\\\\Sample_002\\\\fov1\\\\nadh.tiff', '../data/newData\\\\Sample_002\\\\fov1\\\\shg.tiff'], 28), (['../data/newData\\\\Sample_002\\\\fov2\\\\nadh.tiff', '../data/newData\\\\Sample_002\\\\fov2\\\\shg.tiff'], 28), (['../data/newData\\\\Sample_002\\\\fov3\\\\nadh.tiff', '../data/newData\\\\Sample_002\\\\fov3\\\\shg.tiff'], 28), (['../data/newData\\\\Sample_002\\\\fov4\\\\nadh.tiff', '../data/newData\\\\Sample_002\\\\fov4\\\\shg.tiff'], 28), (['../data/newData\\\\Sample_002\\\\fov5\\\\nadh.tiff', '../data/newData\\\\Sample_002\\\\fov5\\\\shg.tiff'], 28)], [(['../data/newData\\\\Sample_024\\\\fov1\\\\nadh.tiff', '../data/newData\\\\Sample_024\\\\fov1\\\\shg.tiff'], 9), (['../data/newData\\\\Sample_024\\\\fov2\\\\nadh.tiff', '../data/newData\\\\Sample_024\\\\fov2\\\\shg.tiff'], 9), (['../data/newData\\\\Sample_024\\\\fov3\\\\nadh.tiff', '../data/newData\\\\Sample_024\\\\fov3\\\\shg.tiff'], 9), (['../data/newData\\\\Sample_024\\\\fov4\\\\nadh.tiff', '../data/newData\\\\Sample_024\\\\fov4\\\\shg.tiff'], 9), (['../data/newData\\\\Sample_024\\\\fov5\\\\nadh.tiff', '../data/newData\\\\Sample_024\\\\fov5\\\\shg.tiff'], 9)], [(['../data/newData\\\\Sample_012\\\\fov1\\\\nadh.tiff', '../data/newData\\\\Sample_012\\\\fov1\\\\shg.tiff'], 10), (['../data/newData\\\\Sample_012\\\\fov2\\\\nadh.tiff', '../data/newData\\\\Sample_012\\\\fov2\\\\shg.tiff'], 10), (['../data/newData\\\\Sample_012\\\\fov3\\\\nadh.tiff', '../data/newData\\\\Sample_012\\\\fov3\\\\shg.tiff'], 10), (['../data/newData\\\\Sample_012\\\\fov4\\\\nadh.tiff', '../data/newData\\\\Sample_012\\\\fov4\\\\shg.tiff'], 10), (['../data/newData\\\\Sample_012\\\\fov5\\\\nadh.tiff', '../data/newData\\\\Sample_012\\\\fov5\\\\shg.tiff'], 10)], [(['../data/newData\\\\Sample_004\\\\fov1\\\\nadh.tiff', '../data/newData\\\\Sample_004\\\\fov1\\\\shg.tiff'], 6), (['../data/newData\\\\Sample_004\\\\fov2\\\\nadh.tiff', '../data/newData\\\\Sample_004\\\\fov2\\\\shg.tiff'], 6), (['../data/newData\\\\Sample_004\\\\fov3\\\\nadh.tiff', '../data/newData\\\\Sample_004\\\\fov3\\\\shg.tiff'], 6), (['../data/newData\\\\Sample_004\\\\fov4\\\\nadh.tiff', '../data/newData\\\\Sample_004\\\\fov4\\\\shg.tiff'], 6), (['../data/newData\\\\Sample_004\\\\fov5\\\\nadh.tiff', '../data/newData\\\\Sample_004\\\\fov5\\\\shg.tiff'], 6)], [(['../data/newData\\\\Sample_011\\\\fov1\\\\nadh.tiff', '../data/newData\\\\Sample_011\\\\fov1\\\\shg.tiff'], 8), (['../data/newData\\\\Sample_011\\\\fov2\\\\nadh.tiff', '../data/newData\\\\Sample_011\\\\fov2\\\\shg.tiff'], 8), (['../data/newData\\\\Sample_011\\\\fov3\\\\nadh.tiff', '../data/newData\\\\Sample_011\\\\fov3\\\\shg.tiff'], 8), (['../data/newData\\\\Sample_011\\\\fov4\\\\nadh.tiff', '../data/newData\\\\Sample_011\\\\fov4\\\\shg.tiff'], 8), (['../data/newData\\\\Sample_011\\\\fov5\\\\nadh.tiff', '../data/newData\\\\Sample_011\\\\fov5\\\\shg.tiff'], 8)], [(['../data/newData\\\\Sample_027\\\\fov1\\\\nadh.tiff', '../data/newData\\\\Sample_027\\\\fov1\\\\shg.tiff'], 30), (['../data/newData\\\\Sample_027\\\\fov2\\\\nadh.tiff', '../data/newData\\\\Sample_027\\\\fov2\\\\shg.tiff'], 30), (['../data/newData\\\\Sample_027\\\\fov3\\\\nadh.tiff', '../data/newData\\\\Sample_027\\\\fov3\\\\shg.tiff'], 30), (['../data/newData\\\\Sample_027\\\\fov4\\\\nadh.tiff', '../data/newData\\\\Sample_027\\\\fov4\\\\shg.tiff'], 30), (['../data/newData\\\\Sample_027\\\\fov5\\\\nadh.tiff', '../data/newData\\\\Sample_027\\\\fov5\\\\shg.tiff'], 30)], [(['../data/newData\\\\Sample_005\\\\fov1\\\\nadh.tiff', '../data/newData\\\\Sample_005\\\\fov1\\\\shg.tiff'], 52), (['../data/newData\\\\Sample_005\\\\fov2\\\\nadh.tiff', '../data/newData\\\\Sample_005\\\\fov2\\\\shg.tiff'], 52), (['../data/newData\\\\Sample_005\\\\fov3\\\\nadh.tiff', '../data/newData\\\\Sample_005\\\\fov3\\\\shg.tiff'], 52), (['../data/newData\\\\Sample_005\\\\fov4\\\\nadh.tiff', '../data/newData\\\\Sample_005\\\\fov4\\\\shg.tiff'], 52), (['../data/newData\\\\Sample_005\\\\fov5\\\\nadh.tiff', '../data/newData\\\\Sample_005\\\\fov5\\\\shg.tiff'], 52)], [(['../data/newData\\\\Sample_013\\\\fov1\\\\nadh.tiff', '../data/newData\\\\Sample_013\\\\fov1\\\\shg.tiff'], 33), (['../data/newData\\\\Sample_013\\\\fov2\\\\nadh.tiff', '../data/newData\\\\Sample_013\\\\fov2\\\\shg.tiff'], 33), (['../data/newData\\\\Sample_013\\\\fov3\\\\nadh.tiff', '../data/newData\\\\Sample_013\\\\fov3\\\\shg.tiff'], 33), (['../data/newData\\\\Sample_013\\\\fov4\\\\nadh.tiff', '../data/newData\\\\Sample_013\\\\fov4\\\\shg.tiff'], 33), (['../data/newData\\\\Sample_013\\\\fov5\\\\nadh.tiff', '../data/newData\\\\Sample_013\\\\fov5\\\\shg.tiff'], 33)], [(['../data/newData\\\\Sample_014\\\\fov1\\\\nadh.tiff', '../data/newData\\\\Sample_014\\\\fov1\\\\shg.tiff'], 7), (['../data/newData\\\\Sample_014\\\\fov2\\\\nadh.tiff', '../data/newData\\\\Sample_014\\\\fov2\\\\shg.tiff'], 7), (['../data/newData\\\\Sample_014\\\\fov3\\\\nadh.tiff', '../data/newData\\\\Sample_014\\\\fov3\\\\shg.tiff'], 7), (['../data/newData\\\\Sample_014\\\\fov4\\\\nadh.tiff', '../data/newData\\\\Sample_014\\\\fov4\\\\shg.tiff'], 7), (['../data/newData\\\\Sample_014\\\\fov5\\\\nadh.tiff', '../data/newData\\\\Sample_014\\\\fov5\\\\shg.tiff'], 7)]]\n"
     ]
    }
   ],
   "execution_count": 30
  },
  {
   "metadata": {
    "ExecuteTime": {
     "end_time": "2025-03-05T17:01:49.971960Z",
     "start_time": "2025-03-05T17:01:49.968623Z"
    }
   },
   "cell_type": "code",
   "source": [
    "import torchvision.transforms.v2 as tvt\n",
    "# Transformations for training set\n",
    "train_transform = tvt.Compose([\n",
    "    tvt.RandomVerticalFlip(p=0.25),\n",
    "    tvt.RandomHorizontalFlip(p=0.25),\n",
    "    tvt.RandomRotation(degrees=(-180, 180))])\n",
    "full_dataset.transform = train_transform"
   ],
   "id": "879c16df30debe74",
   "outputs": [],
   "execution_count": 31
  },
  {
   "metadata": {
    "ExecuteTime": {
     "end_time": "2025-03-05T17:01:50.639250Z",
     "start_time": "2025-03-05T17:01:50.635684Z"
    }
   },
   "cell_type": "code",
   "source": [
    "total_samples = len(samples_list)\n",
    "train_size = int(0.7 * total_samples)\n",
    "val_size = int(0.2 * total_samples)\n",
    "test_size = total_samples - train_size - val_size\n",
    "\n",
    "indices = torch.utils.data.SubsetRandomSampler(range(len(samples_list)))\n",
    "print(indices)\n",
    "indices = [i for i in indices]\n",
    "print(indices)"
   ],
   "id": "1f6c7691535fd89c",
   "outputs": [
    {
     "name": "stdout",
     "output_type": "stream",
     "text": [
      "<torch.utils.data.sampler.SubsetRandomSampler object at 0x000001FA5ED1F890>\n",
      "[28, 22, 23, 25, 15, 18, 11, 12, 16, 7, 14, 9, 6, 20, 10, 24, 19, 8, 4, 26, 21, 1, 27, 13, 2, 0, 17, 3, 5]\n"
     ]
    }
   ],
   "execution_count": 32
  },
  {
   "metadata": {
    "ExecuteTime": {
     "end_time": "2025-03-05T17:01:51.194520Z",
     "start_time": "2025-03-05T17:01:51.191406Z"
    }
   },
   "cell_type": "code",
   "source": [
    "for i in indices:\n",
    "    if samples_list[i][0][1] > 25:\n",
    "        print(f\"Sample_{(i+1):03} has a HIGH score\")\n",
    "    else:\n",
    "        print(f\"Sample_{(i+1):03} has a LOW score\")"
   ],
   "id": "8aae929eb0655f00",
   "outputs": [
    {
     "name": "stdout",
     "output_type": "stream",
     "text": [
      "Sample_029 has a LOW score\n",
      "Sample_023 has a LOW score\n",
      "Sample_024 has a LOW score\n",
      "Sample_026 has a HIGH score\n",
      "Sample_016 has a HIGH score\n",
      "Sample_019 has a LOW score\n",
      "Sample_012 has a LOW score\n",
      "Sample_013 has a LOW score\n",
      "Sample_017 has a LOW score\n",
      "Sample_008 has a HIGH score\n",
      "Sample_015 has a LOW score\n",
      "Sample_010 has a HIGH score\n",
      "Sample_007 has a HIGH score\n",
      "Sample_021 has a HIGH score\n",
      "Sample_011 has a HIGH score\n",
      "Sample_025 has a LOW score\n",
      "Sample_020 has a HIGH score\n",
      "Sample_009 has a LOW score\n",
      "Sample_005 has a LOW score\n",
      "Sample_027 has a HIGH score\n",
      "Sample_022 has a LOW score\n",
      "Sample_002 has a HIGH score\n",
      "Sample_028 has a HIGH score\n",
      "Sample_014 has a HIGH score\n",
      "Sample_003 has a HIGH score\n",
      "Sample_001 has a HIGH score\n",
      "Sample_018 has a LOW score\n",
      "Sample_004 has a LOW score\n",
      "Sample_006 has a LOW score\n"
     ]
    }
   ],
   "execution_count": 33
  },
  {
   "metadata": {
    "ExecuteTime": {
     "end_time": "2025-03-05T17:01:51.826036Z",
     "start_time": "2025-03-05T17:01:51.823345Z"
    }
   },
   "cell_type": "code",
   "source": "print(indices)",
   "id": "c664618d7c34db8b",
   "outputs": [
    {
     "name": "stdout",
     "output_type": "stream",
     "text": [
      "[28, 22, 23, 25, 15, 18, 11, 12, 16, 7, 14, 9, 6, 20, 10, 24, 19, 8, 4, 26, 21, 1, 27, 13, 2, 0, 17, 3, 5]\n"
     ]
    }
   ],
   "execution_count": 34
  },
  {
   "metadata": {
    "ExecuteTime": {
     "end_time": "2025-03-05T17:01:52.297291Z",
     "start_time": "2025-03-05T17:01:52.293590Z"
    }
   },
   "cell_type": "code",
   "source": [
    "sample_id = full_dataset.data_frame['sample_id'].iloc[9]\n",
    "for i, fov_path in enumerate(full_dataset._denest()):\n",
    "        print(fov_path[0][0])"
   ],
   "id": "57f3ec3464fca58b",
   "outputs": [
    {
     "name": "stdout",
     "output_type": "stream",
     "text": [
      "../data/newData\\Sample_001\\fov1\\nadh.tiff\n",
      "../data/newData\\Sample_001\\fov2\\nadh.tiff\n",
      "../data/newData\\Sample_001\\fov3\\nadh.tiff\n",
      "../data/newData\\Sample_001\\fov4\\nadh.tiff\n",
      "../data/newData\\Sample_001\\fov5\\nadh.tiff\n",
      "../data/newData\\Sample_028\\fov1\\nadh.tiff\n",
      "../data/newData\\Sample_028\\fov2\\nadh.tiff\n",
      "../data/newData\\Sample_028\\fov3\\nadh.tiff\n",
      "../data/newData\\Sample_028\\fov4\\nadh.tiff\n",
      "../data/newData\\Sample_028\\fov5\\nadh.tiff\n",
      "../data/newData\\Sample_003\\fov1\\nadh.tiff\n",
      "../data/newData\\Sample_003\\fov2\\nadh.tiff\n",
      "../data/newData\\Sample_003\\fov3\\nadh.tiff\n",
      "../data/newData\\Sample_003\\fov4\\nadh.tiff\n",
      "../data/newData\\Sample_003\\fov5\\nadh.tiff\n",
      "../data/newData\\Sample_006\\fov1\\nadh.tiff\n",
      "../data/newData\\Sample_006\\fov2\\nadh.tiff\n",
      "../data/newData\\Sample_006\\fov3\\nadh.tiff\n",
      "../data/newData\\Sample_006\\fov4\\nadh.tiff\n",
      "../data/newData\\Sample_006\\fov5\\nadh.tiff\n",
      "../data/newData\\Sample_020\\fov1\\nadh.tiff\n",
      "../data/newData\\Sample_020\\fov2\\nadh.tiff\n",
      "../data/newData\\Sample_020\\fov3\\nadh.tiff\n",
      "../data/newData\\Sample_020\\fov4\\nadh.tiff\n",
      "../data/newData\\Sample_020\\fov5\\nadh.tiff\n",
      "../data/newData\\Sample_016\\fov1\\nadh.tiff\n",
      "../data/newData\\Sample_016\\fov2\\nadh.tiff\n",
      "../data/newData\\Sample_016\\fov3\\nadh.tiff\n",
      "../data/newData\\Sample_016\\fov4\\nadh.tiff\n",
      "../data/newData\\Sample_016\\fov5\\nadh.tiff\n",
      "../data/newData\\Sample_015\\fov1\\nadh.tiff\n",
      "../data/newData\\Sample_015\\fov2\\nadh.tiff\n",
      "../data/newData\\Sample_015\\fov3\\nadh.tiff\n",
      "../data/newData\\Sample_015\\fov4\\nadh.tiff\n",
      "../data/newData\\Sample_015\\fov5\\nadh.tiff\n",
      "../data/newData\\Sample_017\\fov1\\nadh.tiff\n",
      "../data/newData\\Sample_017\\fov2\\nadh.tiff\n",
      "../data/newData\\Sample_017\\fov3\\nadh.tiff\n",
      "../data/newData\\Sample_017\\fov4\\nadh.tiff\n",
      "../data/newData\\Sample_017\\fov5\\nadh.tiff\n",
      "../data/newData\\Sample_009\\fov1\\nadh.tiff\n",
      "../data/newData\\Sample_009\\fov2\\nadh.tiff\n",
      "../data/newData\\Sample_009\\fov3\\nadh.tiff\n",
      "../data/newData\\Sample_009\\fov4\\nadh.tiff\n",
      "../data/newData\\Sample_009\\fov5\\nadh.tiff\n",
      "../data/newData\\Sample_029\\fov1\\nadh.tiff\n",
      "../data/newData\\Sample_029\\fov2\\nadh.tiff\n",
      "../data/newData\\Sample_029\\fov3\\nadh.tiff\n",
      "../data/newData\\Sample_029\\fov4\\nadh.tiff\n",
      "../data/newData\\Sample_029\\fov5\\nadh.tiff\n",
      "../data/newData\\Sample_022\\fov1\\nadh.tiff\n",
      "../data/newData\\Sample_022\\fov2\\nadh.tiff\n",
      "../data/newData\\Sample_022\\fov3\\nadh.tiff\n",
      "../data/newData\\Sample_022\\fov4\\nadh.tiff\n",
      "../data/newData\\Sample_022\\fov5\\nadh.tiff\n",
      "../data/newData\\Sample_019\\fov1\\nadh.tiff\n",
      "../data/newData\\Sample_019\\fov2\\nadh.tiff\n",
      "../data/newData\\Sample_019\\fov3\\nadh.tiff\n",
      "../data/newData\\Sample_019\\fov4\\nadh.tiff\n",
      "../data/newData\\Sample_019\\fov5\\nadh.tiff\n",
      "../data/newData\\Sample_008\\fov1\\nadh.tiff\n",
      "../data/newData\\Sample_008\\fov2\\nadh.tiff\n",
      "../data/newData\\Sample_008\\fov3\\nadh.tiff\n",
      "../data/newData\\Sample_008\\fov4\\nadh.tiff\n",
      "../data/newData\\Sample_008\\fov5\\nadh.tiff\n",
      "../data/newData\\Sample_010\\fov1\\nadh.tiff\n",
      "../data/newData\\Sample_010\\fov2\\nadh.tiff\n",
      "../data/newData\\Sample_010\\fov3\\nadh.tiff\n",
      "../data/newData\\Sample_010\\fov4\\nadh.tiff\n",
      "../data/newData\\Sample_010\\fov5\\nadh.tiff\n",
      "../data/newData\\Sample_026\\fov1\\nadh.tiff\n",
      "../data/newData\\Sample_026\\fov2\\nadh.tiff\n",
      "../data/newData\\Sample_026\\fov3\\nadh.tiff\n",
      "../data/newData\\Sample_026\\fov4\\nadh.tiff\n",
      "../data/newData\\Sample_026\\fov5\\nadh.tiff\n",
      "../data/newData\\Sample_023\\fov1\\nadh.tiff\n",
      "../data/newData\\Sample_023\\fov2\\nadh.tiff\n",
      "../data/newData\\Sample_023\\fov3\\nadh.tiff\n",
      "../data/newData\\Sample_023\\fov4\\nadh.tiff\n",
      "../data/newData\\Sample_023\\fov5\\nadh.tiff\n",
      "../data/newData\\Sample_030\\fov1\\nadh.tiff\n",
      "../data/newData\\Sample_030\\fov2\\nadh.tiff\n",
      "../data/newData\\Sample_030\\fov3\\nadh.tiff\n",
      "../data/newData\\Sample_030\\fov4\\nadh.tiff\n",
      "../data/newData\\Sample_030\\fov5\\nadh.tiff\n",
      "../data/newData\\Sample_018\\fov1\\nadh.tiff\n",
      "../data/newData\\Sample_018\\fov2\\nadh.tiff\n",
      "../data/newData\\Sample_018\\fov3\\nadh.tiff\n",
      "../data/newData\\Sample_018\\fov4\\nadh.tiff\n",
      "../data/newData\\Sample_018\\fov5\\nadh.tiff\n",
      "../data/newData\\Sample_025\\fov1\\nadh.tiff\n",
      "../data/newData\\Sample_025\\fov2\\nadh.tiff\n",
      "../data/newData\\Sample_025\\fov3\\nadh.tiff\n",
      "../data/newData\\Sample_025\\fov4\\nadh.tiff\n",
      "../data/newData\\Sample_025\\fov5\\nadh.tiff\n",
      "../data/newData\\Sample_007\\fov1\\nadh.tiff\n",
      "../data/newData\\Sample_007\\fov2\\nadh.tiff\n",
      "../data/newData\\Sample_007\\fov3\\nadh.tiff\n",
      "../data/newData\\Sample_007\\fov4\\nadh.tiff\n",
      "../data/newData\\Sample_007\\fov5\\nadh.tiff\n",
      "../data/newData\\Sample_002\\fov1\\nadh.tiff\n",
      "../data/newData\\Sample_002\\fov2\\nadh.tiff\n",
      "../data/newData\\Sample_002\\fov3\\nadh.tiff\n",
      "../data/newData\\Sample_002\\fov4\\nadh.tiff\n",
      "../data/newData\\Sample_002\\fov5\\nadh.tiff\n",
      "../data/newData\\Sample_024\\fov1\\nadh.tiff\n",
      "../data/newData\\Sample_024\\fov2\\nadh.tiff\n",
      "../data/newData\\Sample_024\\fov3\\nadh.tiff\n",
      "../data/newData\\Sample_024\\fov4\\nadh.tiff\n",
      "../data/newData\\Sample_024\\fov5\\nadh.tiff\n",
      "../data/newData\\Sample_012\\fov1\\nadh.tiff\n",
      "../data/newData\\Sample_012\\fov2\\nadh.tiff\n",
      "../data/newData\\Sample_012\\fov3\\nadh.tiff\n",
      "../data/newData\\Sample_012\\fov4\\nadh.tiff\n",
      "../data/newData\\Sample_012\\fov5\\nadh.tiff\n",
      "../data/newData\\Sample_004\\fov1\\nadh.tiff\n",
      "../data/newData\\Sample_004\\fov2\\nadh.tiff\n",
      "../data/newData\\Sample_004\\fov3\\nadh.tiff\n",
      "../data/newData\\Sample_004\\fov4\\nadh.tiff\n",
      "../data/newData\\Sample_004\\fov5\\nadh.tiff\n",
      "../data/newData\\Sample_011\\fov1\\nadh.tiff\n",
      "../data/newData\\Sample_011\\fov2\\nadh.tiff\n",
      "../data/newData\\Sample_011\\fov3\\nadh.tiff\n",
      "../data/newData\\Sample_011\\fov4\\nadh.tiff\n",
      "../data/newData\\Sample_011\\fov5\\nadh.tiff\n",
      "../data/newData\\Sample_027\\fov1\\nadh.tiff\n",
      "../data/newData\\Sample_027\\fov2\\nadh.tiff\n",
      "../data/newData\\Sample_027\\fov3\\nadh.tiff\n",
      "../data/newData\\Sample_027\\fov4\\nadh.tiff\n",
      "../data/newData\\Sample_027\\fov5\\nadh.tiff\n",
      "../data/newData\\Sample_005\\fov1\\nadh.tiff\n",
      "../data/newData\\Sample_005\\fov2\\nadh.tiff\n",
      "../data/newData\\Sample_005\\fov3\\nadh.tiff\n",
      "../data/newData\\Sample_005\\fov4\\nadh.tiff\n",
      "../data/newData\\Sample_005\\fov5\\nadh.tiff\n",
      "../data/newData\\Sample_013\\fov1\\nadh.tiff\n",
      "../data/newData\\Sample_013\\fov2\\nadh.tiff\n",
      "../data/newData\\Sample_013\\fov3\\nadh.tiff\n",
      "../data/newData\\Sample_013\\fov4\\nadh.tiff\n",
      "../data/newData\\Sample_013\\fov5\\nadh.tiff\n",
      "../data/newData\\Sample_014\\fov1\\nadh.tiff\n",
      "../data/newData\\Sample_014\\fov2\\nadh.tiff\n",
      "../data/newData\\Sample_014\\fov3\\nadh.tiff\n",
      "../data/newData\\Sample_014\\fov4\\nadh.tiff\n",
      "../data/newData\\Sample_014\\fov5\\nadh.tiff\n"
     ]
    }
   ],
   "execution_count": 35
  },
  {
   "metadata": {
    "ExecuteTime": {
     "end_time": "2025-03-05T17:01:52.896352Z",
     "start_time": "2025-03-05T17:01:52.888948Z"
    }
   },
   "cell_type": "code",
   "source": [
    "print(indices)\n",
    "train_samples = indices[:train_size]\n",
    "print(f\"Train samples: {train_samples}\")\n",
    "train_indices = [full_dataset.get_sample_indices(sample) for sample in train_samples]\n",
    "train_indices = [i for sublist in train_indices for i in sublist]\n",
    "print(f\"Train indices: {train_indices}\")\n",
    "train_data = torch.utils.data.Subset(full_dataset, train_indices)\n",
    "\n",
    "\n",
    "val_samples = indices[train_size:train_size+val_size]\n",
    "print(f\"Val samples: {val_samples}\")\n",
    "val_indices = [full_dataset.get_sample_indices(sample) for sample in val_samples]\n",
    "val_indices = [i for sublist in val_indices for i in sublist]\n",
    "print(f\"Val indices: {val_indices}\")\n",
    "val_data = torch.utils.data.Subset(full_dataset, val_indices)\n",
    "\n",
    "test_samples = indices[train_size+val_size:]\n",
    "print(f\"Test samples: {test_samples}\")\n",
    "test_indices = [full_dataset.get_sample_indices(sample) for sample in test_samples]\n",
    "test_indices = [i for sublist in test_indices for i in sublist]\n",
    "print(f\"Test indices: {test_indices}\")\n",
    "test_data = torch.utils.data.Subset(full_dataset, test_indices)"
   ],
   "id": "84d2d0aa054bff7a",
   "outputs": [
    {
     "name": "stdout",
     "output_type": "stream",
     "text": [
      "[28, 22, 23, 25, 15, 18, 11, 12, 16, 7, 14, 9, 6, 20, 10, 24, 19, 8, 4, 26, 21, 1, 27, 13, 2, 0, 17, 3, 5]\n",
      "Train samples: [28, 22, 23, 25, 15, 18, 11, 12, 16, 7, 14, 9, 6, 20, 10, 24, 19, 8, 4, 26]\n",
      "Train indices: [80, 81, 82, 83, 84, 105, 106, 107, 108, 109, 90, 91, 92, 93, 94, 125, 126, 127, 128, 129, 25, 26, 27, 28, 29, 55, 56, 57, 58, 59, 110, 111, 112, 113, 114, 135, 136, 137, 138, 139, 35, 36, 37, 38, 39, 60, 61, 62, 63, 64, 30, 31, 32, 33, 34, 65, 66, 67, 68, 69, 95, 96, 97, 98, 99, 50, 51, 52, 53, 54, 120, 121, 122, 123, 124, 70, 71, 72, 73, 74, 20, 21, 22, 23, 24, 40, 41, 42, 43, 44, 130, 131, 132, 133, 134, 5, 6, 7, 8, 9]\n",
      "Val samples: [21, 1, 27, 13, 2]\n",
      "Val indices: [75, 76, 77, 78, 79, 100, 101, 102, 103, 104, 45, 46, 47, 48, 49, 140, 141, 142, 143, 144, 10, 11, 12, 13, 14]\n",
      "Test samples: [0, 17, 3, 5]\n",
      "Test indices: [0, 1, 2, 3, 4, 85, 86, 87, 88, 89, 115, 116, 117, 118, 119, 15, 16, 17, 18, 19]\n"
     ]
    }
   ],
   "execution_count": 36
  },
  {
   "metadata": {
    "ExecuteTime": {
     "end_time": "2025-03-05T17:05:32.835636Z",
     "start_time": "2025-03-05T17:05:32.828277Z"
    }
   },
   "cell_type": "code",
   "source": [
    "for i in test_samples:\n",
    "    for sample_path in full_dataset.sample_wise_paths[i]:\n",
    "        print(sample_path)"
   ],
   "id": "24fad372b2ddd332",
   "outputs": [
    {
     "name": "stdout",
     "output_type": "stream",
     "text": [
      "(['../data/newData\\\\Sample_001\\\\fov1\\\\nadh.tiff', '../data/newData\\\\Sample_001\\\\fov1\\\\shg.tiff'], 77)\n",
      "(['../data/newData\\\\Sample_001\\\\fov2\\\\nadh.tiff', '../data/newData\\\\Sample_001\\\\fov2\\\\shg.tiff'], 77)\n",
      "(['../data/newData\\\\Sample_001\\\\fov3\\\\nadh.tiff', '../data/newData\\\\Sample_001\\\\fov3\\\\shg.tiff'], 77)\n",
      "(['../data/newData\\\\Sample_001\\\\fov4\\\\nadh.tiff', '../data/newData\\\\Sample_001\\\\fov4\\\\shg.tiff'], 77)\n",
      "(['../data/newData\\\\Sample_001\\\\fov5\\\\nadh.tiff', '../data/newData\\\\Sample_001\\\\fov5\\\\shg.tiff'], 77)\n",
      "(['../data/newData\\\\Sample_018\\\\fov1\\\\nadh.tiff', '../data/newData\\\\Sample_018\\\\fov1\\\\shg.tiff'], 0)\n",
      "(['../data/newData\\\\Sample_018\\\\fov2\\\\nadh.tiff', '../data/newData\\\\Sample_018\\\\fov2\\\\shg.tiff'], 0)\n",
      "(['../data/newData\\\\Sample_018\\\\fov3\\\\nadh.tiff', '../data/newData\\\\Sample_018\\\\fov3\\\\shg.tiff'], 0)\n",
      "(['../data/newData\\\\Sample_018\\\\fov4\\\\nadh.tiff', '../data/newData\\\\Sample_018\\\\fov4\\\\shg.tiff'], 0)\n",
      "(['../data/newData\\\\Sample_018\\\\fov5\\\\nadh.tiff', '../data/newData\\\\Sample_018\\\\fov5\\\\shg.tiff'], 0)\n",
      "(['../data/newData\\\\Sample_006\\\\fov1\\\\nadh.tiff', '../data/newData\\\\Sample_006\\\\fov1\\\\shg.tiff'], 6)\n",
      "(['../data/newData\\\\Sample_006\\\\fov2\\\\nadh.tiff', '../data/newData\\\\Sample_006\\\\fov2\\\\shg.tiff'], 6)\n",
      "(['../data/newData\\\\Sample_006\\\\fov3\\\\nadh.tiff', '../data/newData\\\\Sample_006\\\\fov3\\\\shg.tiff'], 6)\n",
      "(['../data/newData\\\\Sample_006\\\\fov4\\\\nadh.tiff', '../data/newData\\\\Sample_006\\\\fov4\\\\shg.tiff'], 6)\n",
      "(['../data/newData\\\\Sample_006\\\\fov5\\\\nadh.tiff', '../data/newData\\\\Sample_006\\\\fov5\\\\shg.tiff'], 6)\n",
      "(['../data/newData\\\\Sample_016\\\\fov1\\\\nadh.tiff', '../data/newData\\\\Sample_016\\\\fov1\\\\shg.tiff'], 8)\n",
      "(['../data/newData\\\\Sample_016\\\\fov2\\\\nadh.tiff', '../data/newData\\\\Sample_016\\\\fov2\\\\shg.tiff'], 8)\n",
      "(['../data/newData\\\\Sample_016\\\\fov3\\\\nadh.tiff', '../data/newData\\\\Sample_016\\\\fov3\\\\shg.tiff'], 8)\n",
      "(['../data/newData\\\\Sample_016\\\\fov4\\\\nadh.tiff', '../data/newData\\\\Sample_016\\\\fov4\\\\shg.tiff'], 8)\n",
      "(['../data/newData\\\\Sample_016\\\\fov5\\\\nadh.tiff', '../data/newData\\\\Sample_016\\\\fov5\\\\shg.tiff'], 8)\n"
     ]
    }
   ],
   "execution_count": 39
  },
  {
   "metadata": {
    "ExecuteTime": {
     "end_time": "2025-03-05T16:39:57.112805Z",
     "start_time": "2025-03-05T16:39:57.104358Z"
    }
   },
   "cell_type": "code",
   "source": [
    "dataloaders = {\n",
    "    'train': DataLoader(train_data, batch_size=16, shuffle=True),\n",
    "    'val': DataLoader(val_data, batch_size=16, shuffle=False),\n",
    "    'test': DataLoader(test_data, batch_size=16, shuffle=False)\n",
    "}"
   ],
   "id": "8bcf83d54636bf76",
   "outputs": [],
   "execution_count": 44
  },
  {
   "metadata": {
    "ExecuteTime": {
     "end_time": "2025-03-05T16:40:26.428153Z",
     "start_time": "2025-03-05T16:40:24.570404Z"
    }
   },
   "cell_type": "code",
   "source": [
    "for images, labels in dataloaders['train']:\n",
    "    print(labels)"
   ],
   "id": "2f2ed74aa1f66bd6",
   "outputs": [
    {
     "name": "stdout",
     "output_type": "stream",
     "text": [
      "tensor([ 8, 30, 52, 28,  8,  3, 52,  8, 30, 10, 28,  6, 10, 28,  3, 30])\n",
      "tensor([10,  7, 27, 10, 10, 52,  7, 27,  8,  7, 52,  8, 30,  7,  3, 27])\n",
      "tensor([52, 10, 28,  8, 27, 27,  8,  4,  8,  7,  8,  7, 61, 77, 10, 28])\n",
      "tensor([ 4,  6, 52,  7,  4,  7,  4, 77, 77, 28,  7, 52,  8, 30,  3, 61])\n",
      "tensor([ 6, 30, 77,  3, 27, 30,  7,  8, 10, 28,  4, 28,  6, 77, 52, 61])\n",
      "tensor([27, 10, 61, 27, 52, 28, 52, 61,  8,  6, 27, 30,  8, 30, 28,  8])\n",
      "tensor([27, 10,  8, 30])\n"
     ]
    }
   ],
   "execution_count": 45
  },
  {
   "metadata": {},
   "cell_type": "code",
   "source": [
    "total_samples = len(samples_list)\n",
    "train_size = int(0.7 * total_samples)\n",
    "val_size = int(0.2 * total_samples)\n",
    "test_size = total_samples - train_size - val_size\n",
    "print(f\"Total samples: {total_samples}, train_size: {train_size}, val_size: {val_size}, test_size: {test_size}\")"
   ],
   "id": "64a051a4d22e2a7d",
   "outputs": [],
   "execution_count": null
  },
  {
   "metadata": {},
   "cell_type": "code",
   "source": [
    "train_samples = samples_list[:train_size]\n",
    "val_samples = samples_list[train_size:train_size+val_size]\n",
    "test_samples = samples_list[train_size+val_size:]\n",
    "print(f\"Train samples: {train_samples}\\n\\nval samples: {val_samples}\\n\\ntest samples: {test_samples}\")"
   ],
   "id": "8e52bf14ab23917e",
   "outputs": [],
   "execution_count": null
  },
  {
   "metadata": {},
   "cell_type": "code",
   "source": [
    "for sample in test_data:\n",
    "    for fov in sample:\n",
    "        score = fov[1]\n",
    "        print(score)"
   ],
   "id": "43727d3d3fb0dd40",
   "outputs": [],
   "execution_count": null
  },
  {
   "metadata": {},
   "cell_type": "code",
   "source": "",
   "id": "3f651122479ece4f",
   "outputs": [],
   "execution_count": null
  }
 ],
 "metadata": {
  "kernelspec": {
   "display_name": "Python 3",
   "language": "python",
   "name": "python3"
  },
  "language_info": {
   "codemirror_mode": {
    "name": "ipython",
    "version": 2
   },
   "file_extension": ".py",
   "mimetype": "text/x-python",
   "name": "python",
   "nbconvert_exporter": "python",
   "pygments_lexer": "ipython2",
   "version": "2.7.6"
  }
 },
 "nbformat": 4,
 "nbformat_minor": 5
}
