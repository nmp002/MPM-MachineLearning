{
 "cells": [
  {
   "cell_type": "code",
   "execution_count": 3,
   "id": "initial_id",
   "metadata": {
    "ExecuteTime": {
     "end_time": "2025-02-17T15:57:12.800222Z",
     "start_time": "2025-02-17T15:57:12.766715Z"
    },
    "collapsed": true,
    "jupyter": {
     "outputs_hidden": true
    }
   },
   "outputs": [
    {
     "name": "stdout",
     "output_type": "stream",
     "text": [
      "Total unique samples found: 29\n"
     ]
    }
   ],
   "source": [
    "# Working on splitting the dataset by low/high recurrence scores,\n",
    "# then tripling the number of high score samples to balance the dataset\n",
    "\n",
    "import torch\n",
    "import random\n",
    "from scripts.dataset_loader import MicroscopyDataset\n",
    "\n",
    "# Set random seed for reproducibility\n",
    "torch.manual_seed(42)\n",
    "random.seed(42)\n",
    "\n",
    "# Load dataset\n",
    "dataset = MicroscopyDataset(\n",
    "    csv_file=r\"C:\\Users\\nmp002\\PycharmProjects\\HighlandsMachineLearning\\data\\newData/labels.csv\",\n",
    "    root_dir=r\"C:\\Users\\nmp002\\PycharmProjects\\HighlandsMachineLearning\\data\\newData\",\n",
    "    transform=None\n",
    ")"
   ]
  },
  {
   "metadata": {
    "ExecuteTime": {
     "end_time": "2025-02-17T16:00:30.464220Z",
     "start_time": "2025-02-17T16:00:30.460222Z"
    }
   },
   "cell_type": "code",
   "source": [
    "# Sample-based dataset splitting\n",
    "samples_dict = dataset.samples  # Dictionary {sample_id: [list of FOVs]}\n",
    "samples_list = list(samples_dict.items())  # Convert to list of tuples\n",
    "random.shuffle(samples_list)  # Shuffle to avoid bias"
   ],
   "id": "dce24cc84bdb7f3e",
   "outputs": [],
   "execution_count": 7
  },
  {
   "metadata": {
    "ExecuteTime": {
     "end_time": "2025-02-17T16:25:10.967530Z",
     "start_time": "2025-02-17T16:25:10.953017Z"
    }
   },
   "cell_type": "code",
   "source": [
    "for sample in samples_list:\n",
    "    fov_list = dataset.samples[sample]\n",
    "    recurrence_scores = [fov[4] for fov in fov_list]\n"
   ],
   "id": "78411bd33681b890",
   "outputs": [
    {
     "ename": "TypeError",
     "evalue": "unhashable type: 'list'",
     "output_type": "error",
     "traceback": [
      "\u001B[1;31m---------------------------------------------------------------------------\u001B[0m",
      "\u001B[1;31mTypeError\u001B[0m                                 Traceback (most recent call last)",
      "Cell \u001B[1;32mIn[23], line 2\u001B[0m\n\u001B[0;32m      1\u001B[0m \u001B[38;5;28;01mfor\u001B[39;00m sample \u001B[38;5;129;01min\u001B[39;00m samples_list:\n\u001B[1;32m----> 2\u001B[0m     fov_list \u001B[38;5;241m=\u001B[39m \u001B[43mdataset\u001B[49m\u001B[38;5;241;43m.\u001B[39;49m\u001B[43msamples\u001B[49m\u001B[43m[\u001B[49m\u001B[43msample\u001B[49m\u001B[43m]\u001B[49m\n\u001B[0;32m      3\u001B[0m     recurrence_scores \u001B[38;5;241m=\u001B[39m [fov[\u001B[38;5;241m4\u001B[39m] \u001B[38;5;28;01mfor\u001B[39;00m fov \u001B[38;5;129;01min\u001B[39;00m fov_list] \n",
      "\u001B[1;31mTypeError\u001B[0m: unhashable type: 'list'"
     ]
    }
   ],
   "execution_count": 23
  },
  {
   "metadata": {},
   "cell_type": "code",
   "outputs": [],
   "execution_count": null,
   "source": "",
   "id": "80c3e82210a8e17"
  }
 ],
 "metadata": {
  "kernelspec": {
   "display_name": "Python 3 (ipykernel)",
   "language": "python",
   "name": "python3"
  },
  "language_info": {
   "codemirror_mode": {
    "name": "ipython",
    "version": 3
   },
   "file_extension": ".py",
   "mimetype": "text/x-python",
   "name": "python",
   "nbconvert_exporter": "python",
   "pygments_lexer": "ipython3",
   "version": "3.9.13"
  }
 },
 "nbformat": 4,
 "nbformat_minor": 5
}
